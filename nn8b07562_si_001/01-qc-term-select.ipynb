{
 "cells": [
  {
   "cell_type": "markdown",
   "metadata": {
    "slideshow": {
     "slide_type": "-"
    },
    "tags": []
   },
   "source": [
    "---\n",
    "title: 01 - QC of the data for nn8b07562_si_001.xlsx\n",
    "\n",
    "author: Javier Millan Acosta\n",
    "\n",
    "---\n",
    "\n",
    "# Introduction and motivation\n",
    "## Source\n",
    "\n",
    "This notebook explores the supplementary materials from the ACS Nano Paper:\n",
    ">Labouta HI, Asgarian N, Rinker K, Cramb DT. Meta-Analysis of Nanoparticle Cytotoxicity via Data-Mining the Literature. ACS Nano. 2019 Jan 31; doi:10.1021/acsnano.8b07562 (Scholia)\n",
    "\n",
    "ACS seems to block scrapers, so the supplementary data needs to be manually downloaded from the [supporting information link](https://pubs.acs.org/doi/suppl/10.1021/acsnano.8b07562/suppl_file/nn8b07562_si_001.xlsx) in the [ACS Nano page](https://pubs.acs.org/doi/full/10.1021/acsnano.8b07562), and then stored under [../data](../data).\n",
    "\n",
    "## Summary\n",
    "The steps in this notebook prepare the input data for the [RML-based RDFication](https://rml.io/specs/rml/) of cytotoxicity data ([CSV mapping](https://rml.io/specs/rml/#example-CSV) ). Specifically, the goals are:\n",
    "\n",
    "    I) Describe the data set\n",
    "    II) Identify inconsistencies and clean the data\n",
    "    III) Assist with the selection of eNanoMapper terms for the mapping\n",
    "    IV) Help detect missing relevant classes in the eNanoMapper ontology\n",
    "    V) Provide the foundation for the RML that will be used for the RDFication\n",
    "    VI) Serve as a (working) mockup for an eNanoMapper ontology allign tool\n",
    "\n",
    "\n",
    "# Imports"
   ]
  },
  {
   "cell_type": "code",
   "execution_count": 1,
   "metadata": {},
   "outputs": [],
   "source": [
    "import pandas as pd\n",
    "import numpy as np\n",
    "import math\n",
    "import os\n",
    "import sys\n",
    "from IPython.display import Markdown, display\n",
    "from code import interact\n",
    "import re\n",
    "import rdflib\n",
    "import requests\n",
    "from ipywidgets import interactive_output, interact_manual, Layout, widgets, interact, Dropdown, Select, Text, Button, Textarea\n",
    "import ipysheet as ip"
   ]
  },
  {
   "cell_type": "markdown",
   "metadata": {},
   "source": [
    "# Loading data\n",
    "The dataset is an overview of literature nanoparticle citotoxicity assays. The authors harmonized the units and used the features in the table above to run decision tree analyses."
   ]
  },
  {
   "cell_type": "code",
   "execution_count": 2,
   "metadata": {},
   "outputs": [],
   "source": [
    "file = \"../data/nn8b07562_si_001.xlsx\"\n",
    "df = pd.read_excel(file)"
   ]
  },
  {
   "cell_type": "markdown",
   "metadata": {},
   "source": [
    "Next step is to verify the data types for each column:"
   ]
  },
  {
   "cell_type": "code",
   "execution_count": 3,
   "metadata": {},
   "outputs": [
    {
     "data": {
      "text/html": [
       "<div>\n",
       "<style scoped>\n",
       "    .dataframe tbody tr th:only-of-type {\n",
       "        vertical-align: middle;\n",
       "    }\n",
       "\n",
       "    .dataframe tbody tr th {\n",
       "        vertical-align: top;\n",
       "    }\n",
       "\n",
       "    .dataframe thead th {\n",
       "        text-align: right;\n",
       "    }\n",
       "</style>\n",
       "<table border=\"1\" class=\"dataframe\">\n",
       "  <thead>\n",
       "    <tr style=\"text-align: right;\">\n",
       "      <th></th>\n",
       "      <th>Nanoparticle</th>\n",
       "      <th>Type: Organic (O)/inorganic (I)</th>\n",
       "      <th>coat</th>\n",
       "      <th>Diameter (nm)</th>\n",
       "      <th>Concentration μM</th>\n",
       "      <th>Zeta potential (mV)</th>\n",
       "      <th>Cells</th>\n",
       "      <th>Cell line (L)/primary cells (P)</th>\n",
       "      <th>Human(H)/Animal(A) cells</th>\n",
       "      <th>Animal?</th>\n",
       "      <th>...</th>\n",
       "      <th>Test</th>\n",
       "      <th>Test indicator</th>\n",
       "      <th>Biochemical metric</th>\n",
       "      <th>% Cell viability</th>\n",
       "      <th>Interference checked (Y/N)</th>\n",
       "      <th>Colloidal stability checked (Y/N)</th>\n",
       "      <th>Positive control (Y/N)</th>\n",
       "      <th>Publication year</th>\n",
       "      <th>Particle ID</th>\n",
       "      <th>Reference DOI</th>\n",
       "    </tr>\n",
       "  </thead>\n",
       "  <tbody>\n",
       "    <tr>\n",
       "      <th>Dtype</th>\n",
       "      <td>object</td>\n",
       "      <td>object</td>\n",
       "      <td>object</td>\n",
       "      <td>float64</td>\n",
       "      <td>float64</td>\n",
       "      <td>float64</td>\n",
       "      <td>object</td>\n",
       "      <td>object</td>\n",
       "      <td>object</td>\n",
       "      <td>object</td>\n",
       "      <td>...</td>\n",
       "      <td>object</td>\n",
       "      <td>object</td>\n",
       "      <td>object</td>\n",
       "      <td>float64</td>\n",
       "      <td>object</td>\n",
       "      <td>object</td>\n",
       "      <td>object</td>\n",
       "      <td>int64</td>\n",
       "      <td>int64</td>\n",
       "      <td>object</td>\n",
       "    </tr>\n",
       "  </tbody>\n",
       "</table>\n",
       "<p>1 rows × 24 columns</p>\n",
       "</div>"
      ],
      "text/plain": [
       "      Nanoparticle Type: Organic (O)/inorganic (I)    coat Diameter (nm)  \\\n",
       "Dtype       object                          object  object       float64   \n",
       "\n",
       "      Concentration μM Zeta potential (mV)   Cells  \\\n",
       "Dtype          float64             float64  object   \n",
       "\n",
       "      Cell line (L)/primary cells (P) Human(H)/Animal(A) cells Animal?  ...  \\\n",
       "Dtype                          object                   object  object  ...   \n",
       "\n",
       "         Test Test indicator Biochemical metric % Cell viability  \\\n",
       "Dtype  object         object             object          float64   \n",
       "\n",
       "      Interference checked (Y/N) Colloidal stability checked (Y/N)  \\\n",
       "Dtype                     object                            object   \n",
       "\n",
       "      Positive control (Y/N) Publication year Particle ID Reference DOI  \n",
       "Dtype                 object            int64       int64        object  \n",
       "\n",
       "[1 rows x 24 columns]"
      ]
     },
     "metadata": {},
     "output_type": "display_data"
    },
    {
     "data": {
      "text/markdown": [
       "Data shape of ../data/nn8b07562_si_001.xlsx is (2896, 24)."
      ],
      "text/plain": [
       "<IPython.core.display.Markdown object>"
      ]
     },
     "metadata": {},
     "output_type": "display_data"
    }
   ],
   "source": [
    "df_dtypes = pd.DataFrame(df.dtypes, columns=[\"Dtype\"])\n",
    "cols = [i for i in df.columns]\n",
    "display(df_dtypes.transpose())\n",
    "display(Markdown(\"Data shape of {} is {}.\".format(file, df.shape)))"
   ]
  },
  {
   "cell_type": "markdown",
   "metadata": {},
   "source": [
    "Converting all numeric columns to floats and `Particle ID` to string:"
   ]
  },
  {
   "cell_type": "code",
   "execution_count": 4,
   "metadata": {},
   "outputs": [
    {
     "data": {
      "text/html": [
       "<div>\n",
       "<style scoped>\n",
       "    .dataframe tbody tr th:only-of-type {\n",
       "        vertical-align: middle;\n",
       "    }\n",
       "\n",
       "    .dataframe tbody tr th {\n",
       "        vertical-align: top;\n",
       "    }\n",
       "\n",
       "    .dataframe thead th {\n",
       "        text-align: right;\n",
       "    }\n",
       "</style>\n",
       "<table border=\"1\" class=\"dataframe\">\n",
       "  <thead>\n",
       "    <tr style=\"text-align: right;\">\n",
       "      <th></th>\n",
       "      <th>Dtype</th>\n",
       "    </tr>\n",
       "  </thead>\n",
       "  <tbody>\n",
       "    <tr>\n",
       "      <th>Exposure time (h)</th>\n",
       "      <td>float64</td>\n",
       "    </tr>\n",
       "    <tr>\n",
       "      <th>Publication year</th>\n",
       "      <td>float64</td>\n",
       "    </tr>\n",
       "    <tr>\n",
       "      <th>Particle ID</th>\n",
       "      <td>object</td>\n",
       "    </tr>\n",
       "  </tbody>\n",
       "</table>\n",
       "</div>"
      ],
      "text/plain": [
       "                     Dtype\n",
       "Exposure time (h)  float64\n",
       "Publication year   float64\n",
       "Particle ID         object"
      ]
     },
     "metadata": {},
     "output_type": "display_data"
    }
   ],
   "source": [
    "int_cols = list(df_dtypes.loc[df_dtypes['Dtype'] == int].index)\n",
    "df[int_cols] = df[int_cols].astype(float)\n",
    "df[\"Particle ID\"] = df[\"Particle ID\"].astype(object)\n",
    "qual_cols = list(df_dtypes.loc[df_dtypes['Dtype'] == object].index)\n",
    "display(pd.DataFrame(df[int_cols].dtypes, columns=[\"Dtype\"]))"
   ]
  },
  {
   "cell_type": "markdown",
   "metadata": {},
   "source": [
    "# Describing the data features\n",
    "## Qualitative features"
   ]
  },
  {
   "cell_type": "markdown",
   "metadata": {},
   "source": [
    "Table below is a description of the qualitative variables in the data (`dtype=object`)."
   ]
  },
  {
   "cell_type": "code",
   "execution_count": 5,
   "metadata": {},
   "outputs": [
    {
     "data": {
      "text/html": [
       "<div>\n",
       "<style scoped>\n",
       "    .dataframe tbody tr th:only-of-type {\n",
       "        vertical-align: middle;\n",
       "    }\n",
       "\n",
       "    .dataframe tbody tr th {\n",
       "        vertical-align: top;\n",
       "    }\n",
       "\n",
       "    .dataframe thead th {\n",
       "        text-align: right;\n",
       "    }\n",
       "</style>\n",
       "<table border=\"1\" class=\"dataframe\">\n",
       "  <thead>\n",
       "    <tr style=\"text-align: right;\">\n",
       "      <th></th>\n",
       "      <th>Nanoparticle</th>\n",
       "      <th>Type: Organic (O)/inorganic (I)</th>\n",
       "      <th>coat</th>\n",
       "      <th>Cells</th>\n",
       "      <th>Cell line (L)/primary cells (P)</th>\n",
       "      <th>Human(H)/Animal(A) cells</th>\n",
       "      <th>Animal?</th>\n",
       "      <th>Cell morphology</th>\n",
       "      <th>Cell age: embryonic (E), Adult (A)</th>\n",
       "      <th>Cell-organ/tissue source</th>\n",
       "      <th>Test</th>\n",
       "      <th>Test indicator</th>\n",
       "      <th>Biochemical metric</th>\n",
       "      <th>Interference checked (Y/N)</th>\n",
       "      <th>Colloidal stability checked (Y/N)</th>\n",
       "      <th>Positive control (Y/N)</th>\n",
       "      <th>Particle ID</th>\n",
       "      <th>Reference DOI</th>\n",
       "    </tr>\n",
       "  </thead>\n",
       "  <tbody>\n",
       "    <tr>\n",
       "      <th>count</th>\n",
       "      <td>2896</td>\n",
       "      <td>2896</td>\n",
       "      <td>1052</td>\n",
       "      <td>2896</td>\n",
       "      <td>2896</td>\n",
       "      <td>2896</td>\n",
       "      <td>651</td>\n",
       "      <td>2896</td>\n",
       "      <td>2896</td>\n",
       "      <td>2896</td>\n",
       "      <td>2896</td>\n",
       "      <td>2896</td>\n",
       "      <td>2896</td>\n",
       "      <td>2896</td>\n",
       "      <td>2896</td>\n",
       "      <td>2896</td>\n",
       "      <td>2896.0</td>\n",
       "      <td>2896</td>\n",
       "    </tr>\n",
       "    <tr>\n",
       "      <th>unique</th>\n",
       "      <td>33</td>\n",
       "      <td>2</td>\n",
       "      <td>46</td>\n",
       "      <td>81</td>\n",
       "      <td>2</td>\n",
       "      <td>2</td>\n",
       "      <td>8</td>\n",
       "      <td>15</td>\n",
       "      <td>2</td>\n",
       "      <td>30</td>\n",
       "      <td>23</td>\n",
       "      <td>17</td>\n",
       "      <td>6</td>\n",
       "      <td>2</td>\n",
       "      <td>2</td>\n",
       "      <td>2</td>\n",
       "      <td>118.0</td>\n",
       "      <td>89</td>\n",
       "    </tr>\n",
       "    <tr>\n",
       "      <th>top</th>\n",
       "      <td>Iron oxide</td>\n",
       "      <td>I</td>\n",
       "      <td>PEI</td>\n",
       "      <td>A549</td>\n",
       "      <td>L</td>\n",
       "      <td>H</td>\n",
       "      <td>Mouse</td>\n",
       "      <td>Epithelial</td>\n",
       "      <td>A</td>\n",
       "      <td>Blood</td>\n",
       "      <td>MTT</td>\n",
       "      <td>tetrazolium salt</td>\n",
       "      <td>cell metabolic activity</td>\n",
       "      <td>N</td>\n",
       "      <td>N</td>\n",
       "      <td>N</td>\n",
       "      <td>19.0</td>\n",
       "      <td>10.1186/1556-276X-7-77</td>\n",
       "    </tr>\n",
       "    <tr>\n",
       "      <th>freq</th>\n",
       "      <td>490</td>\n",
       "      <td>2274</td>\n",
       "      <td>123</td>\n",
       "      <td>298</td>\n",
       "      <td>2356</td>\n",
       "      <td>2231</td>\n",
       "      <td>411</td>\n",
       "      <td>1456</td>\n",
       "      <td>2757</td>\n",
       "      <td>536</td>\n",
       "      <td>872</td>\n",
       "      <td>1302</td>\n",
       "      <td>1678</td>\n",
       "      <td>2348</td>\n",
       "      <td>2309</td>\n",
       "      <td>2395</td>\n",
       "      <td>225.0</td>\n",
       "      <td>225</td>\n",
       "    </tr>\n",
       "  </tbody>\n",
       "</table>\n",
       "</div>"
      ],
      "text/plain": [
       "       Nanoparticle Type: Organic (O)/inorganic (I)  coat Cells  \\\n",
       "count          2896                            2896  1052  2896   \n",
       "unique           33                               2    46    81   \n",
       "top      Iron oxide                               I   PEI  A549   \n",
       "freq            490                            2274   123   298   \n",
       "\n",
       "       Cell line (L)/primary cells (P) Human(H)/Animal(A) cells Animal?  \\\n",
       "count                             2896                     2896     651   \n",
       "unique                               2                        2       8   \n",
       "top                                  L                        H   Mouse   \n",
       "freq                              2356                     2231     411   \n",
       "\n",
       "       Cell morphology Cell age: embryonic (E), Adult (A)  \\\n",
       "count             2896                               2896   \n",
       "unique              15                                  2   \n",
       "top         Epithelial                                  A   \n",
       "freq              1456                               2757   \n",
       "\n",
       "       Cell-organ/tissue source  Test    Test indicator  \\\n",
       "count                      2896  2896              2896   \n",
       "unique                       30    23                17   \n",
       "top                       Blood   MTT  tetrazolium salt   \n",
       "freq                        536   872              1302   \n",
       "\n",
       "             Biochemical metric Interference checked (Y/N)  \\\n",
       "count                      2896                       2896   \n",
       "unique                        6                          2   \n",
       "top     cell metabolic activity                          N   \n",
       "freq                       1678                       2348   \n",
       "\n",
       "       Colloidal stability checked (Y/N) Positive control (Y/N)  Particle ID  \\\n",
       "count                               2896                   2896       2896.0   \n",
       "unique                                 2                      2        118.0   \n",
       "top                                    N                      N         19.0   \n",
       "freq                                2309                   2395        225.0   \n",
       "\n",
       "                 Reference DOI  \n",
       "count                     2896  \n",
       "unique                      89  \n",
       "top     10.1186/1556-276X-7-77  \n",
       "freq                       225  "
      ]
     },
     "execution_count": 5,
     "metadata": {},
     "output_type": "execute_result"
    }
   ],
   "source": [
    "df.describe(include=\"object\")"
   ]
  },
  {
   "cell_type": "markdown",
   "metadata": {},
   "source": [
    "Table below shows the percentage of missing values."
   ]
  },
  {
   "cell_type": "code",
   "execution_count": 6,
   "metadata": {},
   "outputs": [
    {
     "data": {
      "text/html": [
       "<div>\n",
       "<style scoped>\n",
       "    .dataframe tbody tr th:only-of-type {\n",
       "        vertical-align: middle;\n",
       "    }\n",
       "\n",
       "    .dataframe tbody tr th {\n",
       "        vertical-align: top;\n",
       "    }\n",
       "\n",
       "    .dataframe thead th {\n",
       "        text-align: right;\n",
       "    }\n",
       "</style>\n",
       "<table border=\"1\" class=\"dataframe\">\n",
       "  <thead>\n",
       "    <tr style=\"text-align: right;\">\n",
       "      <th></th>\n",
       "      <th>Nanoparticle</th>\n",
       "      <th>Type: Organic (O)/inorganic (I)</th>\n",
       "      <th>coat</th>\n",
       "      <th>Cells</th>\n",
       "      <th>Cell line (L)/primary cells (P)</th>\n",
       "      <th>Human(H)/Animal(A) cells</th>\n",
       "      <th>Animal?</th>\n",
       "      <th>Cell morphology</th>\n",
       "      <th>Cell age: embryonic (E), Adult (A)</th>\n",
       "      <th>Cell-organ/tissue source</th>\n",
       "      <th>Test</th>\n",
       "      <th>Test indicator</th>\n",
       "      <th>Biochemical metric</th>\n",
       "      <th>Interference checked (Y/N)</th>\n",
       "      <th>Colloidal stability checked (Y/N)</th>\n",
       "      <th>Positive control (Y/N)</th>\n",
       "      <th>Reference DOI</th>\n",
       "    </tr>\n",
       "  </thead>\n",
       "  <tbody>\n",
       "    <tr>\n",
       "      <th>%na</th>\n",
       "      <td>0.0</td>\n",
       "      <td>0.0</td>\n",
       "      <td>63.674033</td>\n",
       "      <td>0.0</td>\n",
       "      <td>0.0</td>\n",
       "      <td>0.0</td>\n",
       "      <td>77.520718</td>\n",
       "      <td>0.0</td>\n",
       "      <td>0.0</td>\n",
       "      <td>0.0</td>\n",
       "      <td>0.0</td>\n",
       "      <td>0.0</td>\n",
       "      <td>0.0</td>\n",
       "      <td>0.0</td>\n",
       "      <td>0.0</td>\n",
       "      <td>0.0</td>\n",
       "      <td>0.0</td>\n",
       "    </tr>\n",
       "  </tbody>\n",
       "</table>\n",
       "</div>"
      ],
      "text/plain": [
       "     Nanoparticle  Type: Organic (O)/inorganic (I)       coat  Cells  \\\n",
       "%na           0.0                              0.0  63.674033    0.0   \n",
       "\n",
       "     Cell line (L)/primary cells (P)  Human(H)/Animal(A) cells    Animal?  \\\n",
       "%na                              0.0                       0.0  77.520718   \n",
       "\n",
       "     Cell morphology  Cell age: embryonic (E), Adult (A)  \\\n",
       "%na              0.0                                 0.0   \n",
       "\n",
       "     Cell-organ/tissue source  Test  Test indicator  Biochemical metric  \\\n",
       "%na                       0.0   0.0             0.0                 0.0   \n",
       "\n",
       "     Interference checked (Y/N)  Colloidal stability checked (Y/N)  \\\n",
       "%na                         0.0                                0.0   \n",
       "\n",
       "     Positive control (Y/N)  Reference DOI  \n",
       "%na                     0.0            0.0  "
      ]
     },
     "execution_count": 6,
     "metadata": {},
     "output_type": "execute_result"
    }
   ],
   "source": [
    "df_null = pd.DataFrame(df[qual_cols].isnull().sum()/len(df)*100, columns = [\"%na\"]).transpose()\n",
    "df_null"
   ]
  },
  {
   "cell_type": "markdown",
   "metadata": {},
   "source": [
    "As described in the paper, there are many missing values for `coat`. The missing values in `Animal?` are not relevant -this column will be replaced with an `organism` column. "
   ]
  },
  {
   "cell_type": "code",
   "execution_count": 7,
   "metadata": {},
   "outputs": [],
   "source": [
    "df[qual_cols] = df[qual_cols].fillna('')"
   ]
  },
  {
   "cell_type": "markdown",
   "metadata": {},
   "source": [
    "## Quantitative features"
   ]
  },
  {
   "cell_type": "code",
   "execution_count": 8,
   "metadata": {},
   "outputs": [
    {
     "data": {
      "text/html": [
       "<div>\n",
       "<style scoped>\n",
       "    .dataframe tbody tr th:only-of-type {\n",
       "        vertical-align: middle;\n",
       "    }\n",
       "\n",
       "    .dataframe tbody tr th {\n",
       "        vertical-align: top;\n",
       "    }\n",
       "\n",
       "    .dataframe thead th {\n",
       "        text-align: right;\n",
       "    }\n",
       "</style>\n",
       "<table border=\"1\" class=\"dataframe\">\n",
       "  <thead>\n",
       "    <tr style=\"text-align: right;\">\n",
       "      <th></th>\n",
       "      <th>Diameter (nm)</th>\n",
       "      <th>Concentration μM</th>\n",
       "      <th>Zeta potential (mV)</th>\n",
       "      <th>Exposure time (h)</th>\n",
       "      <th>% Cell viability</th>\n",
       "    </tr>\n",
       "  </thead>\n",
       "  <tbody>\n",
       "    <tr>\n",
       "      <th>count</th>\n",
       "      <td>2896.000000</td>\n",
       "      <td>2.896000e+03</td>\n",
       "      <td>1261.000000</td>\n",
       "      <td>2896.000000</td>\n",
       "      <td>2896.000000</td>\n",
       "    </tr>\n",
       "    <tr>\n",
       "      <th>mean</th>\n",
       "      <td>125.082465</td>\n",
       "      <td>8.574635e+01</td>\n",
       "      <td>-1.963933</td>\n",
       "      <td>35.515539</td>\n",
       "      <td>75.208409</td>\n",
       "    </tr>\n",
       "    <tr>\n",
       "      <th>std</th>\n",
       "      <td>171.931194</td>\n",
       "      <td>7.979487e+02</td>\n",
       "      <td>28.925259</td>\n",
       "      <td>27.950149</td>\n",
       "      <td>34.267026</td>\n",
       "    </tr>\n",
       "    <tr>\n",
       "      <th>min</th>\n",
       "      <td>1.000000</td>\n",
       "      <td>1.660539e-20</td>\n",
       "      <td>-48.000000</td>\n",
       "      <td>1.000000</td>\n",
       "      <td>-58.897640</td>\n",
       "    </tr>\n",
       "    <tr>\n",
       "      <th>25%</th>\n",
       "      <td>20.000000</td>\n",
       "      <td>2.500000e-06</td>\n",
       "      <td>-27.000000</td>\n",
       "      <td>24.000000</td>\n",
       "      <td>54.219643</td>\n",
       "    </tr>\n",
       "    <tr>\n",
       "      <th>50%</th>\n",
       "      <td>49.200000</td>\n",
       "      <td>5.000000e-04</td>\n",
       "      <td>-8.000000</td>\n",
       "      <td>24.000000</td>\n",
       "      <td>86.965674</td>\n",
       "    </tr>\n",
       "    <tr>\n",
       "      <th>75%</th>\n",
       "      <td>165.000000</td>\n",
       "      <td>1.054755e-02</td>\n",
       "      <td>17.700000</td>\n",
       "      <td>48.000000</td>\n",
       "      <td>97.652370</td>\n",
       "    </tr>\n",
       "    <tr>\n",
       "      <th>max</th>\n",
       "      <td>957.000000</td>\n",
       "      <td>1.500000e+04</td>\n",
       "      <td>87.000000</td>\n",
       "      <td>336.000000</td>\n",
       "      <td>404.811700</td>\n",
       "    </tr>\n",
       "    <tr>\n",
       "      <th>%na</th>\n",
       "      <td>0.000000</td>\n",
       "      <td>0.000000e+00</td>\n",
       "      <td>56.457182</td>\n",
       "      <td>0.000000</td>\n",
       "      <td>0.000000</td>\n",
       "    </tr>\n",
       "  </tbody>\n",
       "</table>\n",
       "</div>"
      ],
      "text/plain": [
       "       Diameter (nm)  Concentration μM  Zeta potential (mV)  \\\n",
       "count    2896.000000      2.896000e+03          1261.000000   \n",
       "mean      125.082465      8.574635e+01            -1.963933   \n",
       "std       171.931194      7.979487e+02            28.925259   \n",
       "min         1.000000      1.660539e-20           -48.000000   \n",
       "25%        20.000000      2.500000e-06           -27.000000   \n",
       "50%        49.200000      5.000000e-04            -8.000000   \n",
       "75%       165.000000      1.054755e-02            17.700000   \n",
       "max       957.000000      1.500000e+04            87.000000   \n",
       "%na         0.000000      0.000000e+00            56.457182   \n",
       "\n",
       "       Exposure time (h)  % Cell viability  \n",
       "count        2896.000000       2896.000000  \n",
       "mean           35.515539         75.208409  \n",
       "std            27.950149         34.267026  \n",
       "min             1.000000        -58.897640  \n",
       "25%            24.000000         54.219643  \n",
       "50%            24.000000         86.965674  \n",
       "75%            48.000000         97.652370  \n",
       "max           336.000000        404.811700  \n",
       "%na             0.000000          0.000000  "
      ]
     },
     "metadata": {},
     "output_type": "display_data"
    },
    {
     "data": {
      "text/markdown": [
       "The overall percentage of missing values in the quantitative features is 2.352%."
      ],
      "text/plain": [
       "<IPython.core.display.Markdown object>"
      ]
     },
     "metadata": {},
     "output_type": "display_data"
    }
   ],
   "source": [
    "describe = df.drop([\"Particle ID\", \"Publication year\"], axis=1).describe()\n",
    "cols_d = [i for i in describe.columns]\n",
    "nas = [df[col].isna().sum()/len(df[col])*100 for col in cols_d]\n",
    "describe.loc[\"%na\"] = nas\n",
    "display(describe)\n",
    "na_overall = str(np.round(df.isna().sum().sum() / df.size * 100, 3))\n",
    "display(Markdown(\"The overall percentage of missing values in the quantitative features is {}%.\".format(na_overall)))"
   ]
  },
  {
   "cell_type": "markdown",
   "metadata": {},
   "source": [
    "As described in the paper, the amount of rows missing `Zeta potential` measurements is very high."
   ]
  },
  {
   "cell_type": "markdown",
   "metadata": {},
   "source": [
    "# Cleaning data\n",
    "\n",
    "(TBD)"
   ]
  },
  {
   "cell_type": "code",
   "execution_count": 9,
   "metadata": {},
   "outputs": [],
   "source": [
    "df[\"Organism\"] = [val if val !=\"\" else \"Human\" for val in df[\"Animal?\"]]\n",
    "df[\"DOI\"] = [\"\" if \"(\" in val else \"https://doi.org/\"+val for val in df[\"Reference DOI\"]]\n",
    "df[\"Reference\"] = [val.replace(\"not provided (\", \"https://\").replace(\")\", \"\") if \"(\" in val else \"\" for val in df[\"Reference DOI\"]]\n",
    "df[\"Type\"] = [\"organic\" if val==\"O\" else \"inorganic\" for val in df[\"Type: Organic (O)/inorganic (I)\"]]\n",
    "df[\"Diameter units\"] = [\"nm\" for i in range(len(df))]\n",
    "df[\"Concentration units\"] = [\"μM\" for i in range(len(df))]"
   ]
  },
  {
   "cell_type": "code",
   "execution_count": 10,
   "metadata": {},
   "outputs": [],
   "source": [
    "df = df.drop([\"Type: Organic (O)/inorganic (I)\", \"Animal?\", \"Reference DOI\", ], axis=1, )"
   ]
  },
  {
   "cell_type": "markdown",
   "metadata": {},
   "source": [
    "# Mapping terms with the eNanoMapper ontology\n",
    "The [Ontology Lookup Service](https://www.ebi.ac.uk/ols/index) [search API](https://www.ebi.ac.uk/ols/docs/api) is used to retrieve IRI and labels for matches of terms. These can be used as input in a workflow that creates the `RML` model.\n",
    "\n",
    "## Column names\n",
    "Some axioms will be added with the column names as predicates (i.e., measured values like Concentration). The widget below retrieves the best matches from the [Ontology Lookup Service](https://www.ebi.ac.uk/ols/docs/api#Search) for reference for these columns.\n",
    "\n",
    "Defining a function that looks up column names in the OLS and retrieves all the matches:"
   ]
  },
  {
   "cell_type": "code",
   "execution_count": 11,
   "metadata": {},
   "outputs": [],
   "source": [
    "def ols_lookup(var_list):\n",
    "    base_url = \"https://www.ebi.ac.uk\"\n",
    "    get_query = \"/ols/api/search?q={}&groupField=iri&start=0&ontology=enm\"\n",
    "    allign = dict()\n",
    "    for var in var_list:\n",
    "        r = requests.get(base_url+get_query.format(var))\n",
    "        d = dict(r.json())\n",
    "        matches = dict()\n",
    "        for match in range(len(d[\"response\"][\"docs\"])):\n",
    "            label = d[\"response\"][\"docs\"][match][\"label\"]\n",
    "            iri = d[\"response\"][\"docs\"][match][\"iri\"]\n",
    "            matches[label] = iri\n",
    "        allign[var] = matches\n",
    "    return allign"
   ]
  },
  {
   "cell_type": "code",
   "execution_count": 12,
   "metadata": {},
   "outputs": [],
   "source": [
    "allign = ols_lookup(list(df.columns))"
   ]
  },
  {
   "cell_type": "markdown",
   "metadata": {},
   "source": [
    "Using the function on the data and visualizing the results:"
   ]
  },
  {
   "cell_type": "code",
   "execution_count": 13,
   "metadata": {},
   "outputs": [
    {
     "data": {
      "application/vnd.jupyter.widget-view+json": {
       "model_id": "e1f303156e62403cbb8767e9148c9535",
       "version_major": 2,
       "version_minor": 0
      },
      "text/plain": [
       "interactive(children=(Dropdown(description='select', options={'Nanoparticle': {'nanoparticle': 'http://purl.bi…"
      ]
     },
     "metadata": {},
     "output_type": "display_data"
    }
   ],
   "source": [
    "mapping_cols = pd.DataFrame([\"a\" for i in list(allign.keys())], list(allign.keys()), columns=[\"Mapping\"])\n",
    "select_var = Select(options = allign.keys())\n",
    "@interact(select = allign)\n",
    "def show_matches(select):\n",
    "    display(Markdown(\"Below are the matches returned by the OLS.\")) \n",
    "    display(pd.DataFrame([select]).transpose())     "
   ]
  },
  {
   "cell_type": "markdown",
   "metadata": {},
   "source": [
    "## Cell values\n",
    "The unique values are analyzed individually with a similar approach as above. The analyzed columns will naturally be only qualitative.\n"
   ]
  },
  {
   "cell_type": "code",
   "execution_count": 14,
   "metadata": {},
   "outputs": [
    {
     "data": {
      "text/markdown": [
       "- Nanoparticle\n",
       "- coat\n",
       "- Cells\n",
       "- Cell line (L)/primary cells (P)\n",
       "- Human(H)/Animal(A) cells\n",
       "- Cell morphology\n",
       "- Cell-organ/tissue source\n",
       "- Test\n",
       "- Test indicator\n",
       "- Biochemical metric"
      ],
      "text/plain": [
       "<IPython.core.display.Markdown object>"
      ]
     },
     "metadata": {},
     "output_type": "display_data"
    }
   ],
   "source": [
    "qual_cols = [i for i in qual_cols if i not in [\"Type: Organic (O)/inorganic (I)\", \"Cell age: embryonic (E), Adult (A)\", \n",
    "                                               \"Reference DOI\", \"Positive control (Y/N)\", \"Colloidal stability checked (Y/N)\", \n",
    "                                               \"Interference checked (Y/N)\", \"Animal?\"]]\n",
    "str_qual = str_qual = \"- \" + \"\\n- \".join(qual_cols)\n",
    "display(Markdown(str_qual))"
   ]
  },
  {
   "cell_type": "code",
   "execution_count": 15,
   "metadata": {},
   "outputs": [],
   "source": [
    "allign = {col : ols_lookup(np.unique(df[col])) for col in qual_cols}"
   ]
  },
  {
   "cell_type": "code",
   "execution_count": 24,
   "metadata": {},
   "outputs": [
    {
     "data": {
      "application/vnd.jupyter.widget-view+json": {
       "model_id": "ae030ee736a74e5ea8b73abef9d7b0cd",
       "version_major": 2,
       "version_minor": 0
      },
      "text/plain": [
       "interactive(children=(Select(description='select_col', options=('Nanoparticle', 'coat', 'Cells', 'Cell line (L…"
      ]
     },
     "metadata": {},
     "output_type": "display_data"
    }
   ],
   "source": [
    "select_col = Select(options = qual_cols,)\n",
    "select_var = Select(options = allign[select_col.value].keys())\n",
    "def update_var(*args):\n",
    "    select_var.options = allign[select_col.value].keys()\n",
    "select_var.observe(update_var)\n",
    "    \n",
    "all_keys = [allign[col].keys() for col in allign.keys()]\n",
    "all_keys = [key_key for key in all_keys for key_key in key]\n",
    "\n",
    "input_iris = Textarea(layout = widgets.Layout(width='800px'))\n",
    "map_button = Button(description = \"Assign IRIs\")\n",
    "matches = {key:'' for key in all_keys}\n",
    "out = widgets.Output(layout={'border': '0px solid black'})\n",
    "\n",
    "\n",
    "def map_click(*args):\n",
    "    if \"http://\" in input_iris.value:\n",
    "        matches[select_var.value] = list(np.unique(input_iris.value.split(\"\\n\")))\n",
    "        with out:\n",
    "            out.clear_output()\n",
    "            display(Markdown(\"{} was assigned IRI: {}\".format(select_var.value, matches[select_var.value])))\n",
    "            \n",
    "def display_mapping(*args):\n",
    "    display(pd.DataFrame([allign[select_col.value][select_var.value]]).transpose())\n",
    "    \n",
    "\n",
    "@interact(select_var = select_var, input_iris = input_iris, select_col = select_col, allign = allign)\n",
    "def show_matches(select_col, select_var, input_iris):\n",
    "    display(out)\n",
    "    display(map_button)\n",
    "    iris = map_button.on_click(map_click)\n",
    "    display(Markdown(\"#### Click the button to assign IRIs in `input_iris` to the highlighted term {}.\".format(select_var)))\n",
    "    display(Markdown(\"------\"))\n",
    "    display(Markdown(\"Below are the **eNanoMapper ontology matches** (label, IRI) returned by the OLS for **{} ({})**\".format(select_var, select_col))) \n",
    "    display_mapping()"
   ]
  },
  {
   "cell_type": "markdown",
   "metadata": {},
   "source": [
    "In general, it seems like the data needs more cleaning before it can be possible to successfully map terms with the OLS. The following steps are aimed at cleaning the data before the process is repeated, and a final step of manual tuning will be attempted after that. The terms that are still missing will then be looked against all ontologies in the OLS and [added to the eNanoMapper ontology](tbd)."
   ]
  },
  {
   "cell_type": "markdown",
   "metadata": {
    "tags": []
   },
   "source": [
    "#### Nanoparticle"
   ]
  },
  {
   "cell_type": "markdown",
   "metadata": {},
   "source": [
    "#### Coat"
   ]
  },
  {
   "cell_type": "markdown",
   "metadata": {},
   "source": [
    "#### Cells"
   ]
  },
  {
   "cell_type": "markdown",
   "metadata": {},
   "source": [
    "#### Cell morphology"
   ]
  },
  {
   "cell_type": "markdown",
   "metadata": {},
   "source": [
    "#### Cell age\n",
    "How to approach this one?"
   ]
  },
  {
   "cell_type": "markdown",
   "metadata": {},
   "source": [
    "#### Cell-organ/tissue source\n",
    "The eNanoMapper ontology lacks tissue and organ classes."
   ]
  },
  {
   "cell_type": "code",
   "execution_count": 18,
   "metadata": {},
   "outputs": [],
   "source": [
    "#df.to_pickle(\"../data/nn9b07562_si_001.pkl\")"
   ]
  }
 ],
 "metadata": {
  "kernelspec": {
   "display_name": "Python 3 (ipykernel)",
   "language": "python",
   "name": "python3"
  },
  "language_info": {
   "codemirror_mode": {
    "name": "ipython",
    "version": 3
   },
   "file_extension": ".py",
   "mimetype": "text/x-python",
   "name": "python",
   "nbconvert_exporter": "python",
   "pygments_lexer": "ipython3",
   "version": "3.9.13"
  },
  "toc-autonumbering": true,
  "toc-showcode": false,
  "toc-showmarkdowntxt": false,
  "toc-showtags": false,
  "vscode": {
   "interpreter": {
    "hash": "267a425285626f162e8dbac0e72a3103fc15fe1856529c1140c5b196b5352764"
   }
  }
 },
 "nbformat": 4,
 "nbformat_minor": 4
}
