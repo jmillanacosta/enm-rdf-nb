{
 "cells": [
  {
   "cell_type": "markdown",
   "metadata": {},
   "source": [
    "to do\n",
    "- Use the right terminology. Mapping, assigning, endpoint, material, bioassay,,, for the column names and the documentation\n",
    "- allign with AMBIT and ISA-TAB structure\n",
    "- figure out IDs (do i do it like (name + supplier + diameter)?\n",
    "- motivate the inclussion of a whole set of classes into enanomapper ontology: why do we need Alamar blue (a reagent) if we have the Bioassay class \"Alamnar Blue Assay\"?\n",
    "- Data isn't totally clean (e.g. Alamar blue and Alamar Blue)\n",
    "once the proof-of-concept seems to be working:\n",
    "- Write up a project plan to make an app/website/whatever for this workflow (I want a nice GUI)\n",
    "  - Timeline (i.e., a Gannt chart)\n",
    "  - Motivation\n",
    "  - How it alligns w everything fp7 so far\n",
    "  - Detail the proof of concept\n"
   ]
  },
  {
   "cell_type": "markdown",
   "metadata": {
    "slideshow": {
     "slide_type": "-"
    },
    "tags": []
   },
   "source": [
    "---\n",
    "title: 01 - QC + YARRRML generator for nn8b07562_si_001.xlsx\n",
    "\n",
    "author: Javier Millan Acosta\n",
    "\n",
    "---\n",
    "\n",
    "# Introduction and motivation\n",
    "## Source\n",
    "\n",
    "This notebook explores the supplementary materials from the ACS Nano Paper:\n",
    ">Labouta HI, Asgarian N, Rinker K, Cramb DT. Meta-Analysis of Nanoparticle Cytotoxicity via Data-Mining the Literature. ACS Nano. 2019 Jan 31; doi:10.1021/acsnano.8b07562 (Scholia)\n",
    "\n",
    "ACS seems to block scrapers, so the supplementary data needs to be manually downloaded from the [supporting information link](https://pubs.acs.org/doi/suppl/10.1021/acsnano.8b07562/suppl_file/nn8b07562_si_001.xlsx) in the [ACS Nano page](https://pubs.acs.org/doi/full/10.1021/acsnano.8b07562), and then stored under [../data](../data).\n",
    "\n",
    "## Summary\n",
    "The steps in this notebook assist to prepare the input data for the RML-based RDFication of cytotoxicity data through the generation of a [YARRRML](https://rml.io/yarrrml/spec/) mapping file. Specifically, the goals are:\n",
    "\n",
    "*I) Describe the data set*\n",
    "\n",
    "*II) Identify inconsistencies and clean the data*\n",
    "\n",
    "*III) Assist with the selection of eNanoMapper terms for the mapping/assign*\n",
    "\n",
    "*IV) Help detect missing relevant classes in the eNanoMapper ontology*\n",
    "\n",
    "*V) Provide the foundation for the RML YARRRML that will be used for the RDFication*\n",
    "\n",
    "*VI) Serve as a proof-of-concept for an eNanoMapper ontology allign tool*\n",
    "\n",
    "# Imports"
   ]
  },
  {
   "cell_type": "code",
   "execution_count": 19,
   "metadata": {},
   "outputs": [],
   "source": [
    "import pandas as pd\n",
    "import numpy as np\n",
    "import math\n",
    "import os\n",
    "import sys\n",
    "from IPython.display import Markdown, display\n",
    "from code import interact\n",
    "import re\n",
    "import rdflib\n",
    "import requests\n",
    "from ipywidgets import interactive_output, interact_manual, Layout, widgets, interact, Dropdown, Select, Text, Button, Textarea\n",
    "import json\n",
    "from datetime import datetime"
   ]
  },
  {
   "cell_type": "markdown",
   "metadata": {},
   "source": [
    "# Loading data\n",
    "The dataset is an overview of literature nanoparticle citotoxicity assays. The authors harmonized the units and used the features in the table above to run decision tree analyses."
   ]
  },
  {
   "cell_type": "code",
   "execution_count": 2,
   "metadata": {},
   "outputs": [],
   "source": [
    "file = \"../data/nn8b07562_si_001.xlsx\"\n",
    "df = pd.read_excel(file)"
   ]
  },
  {
   "cell_type": "markdown",
   "metadata": {},
   "source": [
    "Next step is to verify the data types for each column:"
   ]
  },
  {
   "cell_type": "code",
   "execution_count": 3,
   "metadata": {},
   "outputs": [
    {
     "data": {
      "text/html": [
       "<div>\n",
       "<style scoped>\n",
       "    .dataframe tbody tr th:only-of-type {\n",
       "        vertical-align: middle;\n",
       "    }\n",
       "\n",
       "    .dataframe tbody tr th {\n",
       "        vertical-align: top;\n",
       "    }\n",
       "\n",
       "    .dataframe thead th {\n",
       "        text-align: right;\n",
       "    }\n",
       "</style>\n",
       "<table border=\"1\" class=\"dataframe\">\n",
       "  <thead>\n",
       "    <tr style=\"text-align: right;\">\n",
       "      <th></th>\n",
       "      <th>Nanoparticle</th>\n",
       "      <th>Type: Organic (O)/inorganic (I)</th>\n",
       "      <th>coat</th>\n",
       "      <th>Diameter (nm)</th>\n",
       "      <th>Concentration μM</th>\n",
       "      <th>Zeta potential (mV)</th>\n",
       "      <th>Cells</th>\n",
       "      <th>Cell line (L)/primary cells (P)</th>\n",
       "      <th>Human(H)/Animal(A) cells</th>\n",
       "      <th>Animal?</th>\n",
       "      <th>...</th>\n",
       "      <th>Test</th>\n",
       "      <th>Test indicator</th>\n",
       "      <th>Biochemical metric</th>\n",
       "      <th>% Cell viability</th>\n",
       "      <th>Interference checked (Y/N)</th>\n",
       "      <th>Colloidal stability checked (Y/N)</th>\n",
       "      <th>Positive control (Y/N)</th>\n",
       "      <th>Publication year</th>\n",
       "      <th>Particle ID</th>\n",
       "      <th>Reference DOI</th>\n",
       "    </tr>\n",
       "  </thead>\n",
       "  <tbody>\n",
       "    <tr>\n",
       "      <th>Dtype</th>\n",
       "      <td>object</td>\n",
       "      <td>object</td>\n",
       "      <td>object</td>\n",
       "      <td>float64</td>\n",
       "      <td>float64</td>\n",
       "      <td>float64</td>\n",
       "      <td>object</td>\n",
       "      <td>object</td>\n",
       "      <td>object</td>\n",
       "      <td>object</td>\n",
       "      <td>...</td>\n",
       "      <td>object</td>\n",
       "      <td>object</td>\n",
       "      <td>object</td>\n",
       "      <td>float64</td>\n",
       "      <td>object</td>\n",
       "      <td>object</td>\n",
       "      <td>object</td>\n",
       "      <td>int64</td>\n",
       "      <td>int64</td>\n",
       "      <td>object</td>\n",
       "    </tr>\n",
       "  </tbody>\n",
       "</table>\n",
       "<p>1 rows × 24 columns</p>\n",
       "</div>"
      ],
      "text/plain": [
       "      Nanoparticle Type: Organic (O)/inorganic (I)    coat Diameter (nm)  \\\n",
       "Dtype       object                          object  object       float64   \n",
       "\n",
       "      Concentration μM Zeta potential (mV)   Cells  \\\n",
       "Dtype          float64             float64  object   \n",
       "\n",
       "      Cell line (L)/primary cells (P) Human(H)/Animal(A) cells Animal?  ...  \\\n",
       "Dtype                          object                   object  object  ...   \n",
       "\n",
       "         Test Test indicator Biochemical metric % Cell viability  \\\n",
       "Dtype  object         object             object          float64   \n",
       "\n",
       "      Interference checked (Y/N) Colloidal stability checked (Y/N)  \\\n",
       "Dtype                     object                            object   \n",
       "\n",
       "      Positive control (Y/N) Publication year Particle ID Reference DOI  \n",
       "Dtype                 object            int64       int64        object  \n",
       "\n",
       "[1 rows x 24 columns]"
      ]
     },
     "metadata": {},
     "output_type": "display_data"
    },
    {
     "data": {
      "text/markdown": [
       "Data shape of ../data/nn8b07562_si_001.xlsx is (2896, 24)."
      ],
      "text/plain": [
       "<IPython.core.display.Markdown object>"
      ]
     },
     "metadata": {},
     "output_type": "display_data"
    }
   ],
   "source": [
    "df_dtypes = pd.DataFrame(df.dtypes, columns=[\"Dtype\"])\n",
    "cols = [i for i in df.columns]\n",
    "display(df_dtypes.transpose())\n",
    "display(Markdown(\"Data shape of {} is {}.\".format(file, df.shape)))"
   ]
  },
  {
   "cell_type": "markdown",
   "metadata": {},
   "source": [
    "Converting all numeric columns to floats and `Particle ID` to string:"
   ]
  },
  {
   "cell_type": "code",
   "execution_count": 4,
   "metadata": {},
   "outputs": [
    {
     "data": {
      "text/html": [
       "<div>\n",
       "<style scoped>\n",
       "    .dataframe tbody tr th:only-of-type {\n",
       "        vertical-align: middle;\n",
       "    }\n",
       "\n",
       "    .dataframe tbody tr th {\n",
       "        vertical-align: top;\n",
       "    }\n",
       "\n",
       "    .dataframe thead th {\n",
       "        text-align: right;\n",
       "    }\n",
       "</style>\n",
       "<table border=\"1\" class=\"dataframe\">\n",
       "  <thead>\n",
       "    <tr style=\"text-align: right;\">\n",
       "      <th></th>\n",
       "      <th>Dtype</th>\n",
       "    </tr>\n",
       "  </thead>\n",
       "  <tbody>\n",
       "    <tr>\n",
       "      <th>Exposure time (h)</th>\n",
       "      <td>float64</td>\n",
       "    </tr>\n",
       "    <tr>\n",
       "      <th>Publication year</th>\n",
       "      <td>float64</td>\n",
       "    </tr>\n",
       "    <tr>\n",
       "      <th>Particle ID</th>\n",
       "      <td>object</td>\n",
       "    </tr>\n",
       "  </tbody>\n",
       "</table>\n",
       "</div>"
      ],
      "text/plain": [
       "                     Dtype\n",
       "Exposure time (h)  float64\n",
       "Publication year   float64\n",
       "Particle ID         object"
      ]
     },
     "metadata": {},
     "output_type": "display_data"
    }
   ],
   "source": [
    "int_cols = list(df_dtypes.loc[df_dtypes['Dtype'] == int].index)\n",
    "df[int_cols] = df[int_cols].astype(float)\n",
    "df[\"Particle ID\"] = df[\"Particle ID\"].astype(object)\n",
    "qual_cols = list(df_dtypes.loc[df_dtypes['Dtype'] == object].index)\n",
    "display(pd.DataFrame(df[int_cols].dtypes, columns=[\"Dtype\"]))"
   ]
  },
  {
   "cell_type": "markdown",
   "metadata": {},
   "source": [
    "# Describing the data features\n",
    "## Qualitative features"
   ]
  },
  {
   "cell_type": "markdown",
   "metadata": {},
   "source": [
    "Table below is a description of the qualitative variables in the data (`dtype=object`)."
   ]
  },
  {
   "cell_type": "code",
   "execution_count": 5,
   "metadata": {},
   "outputs": [
    {
     "data": {
      "text/html": [
       "<div>\n",
       "<style scoped>\n",
       "    .dataframe tbody tr th:only-of-type {\n",
       "        vertical-align: middle;\n",
       "    }\n",
       "\n",
       "    .dataframe tbody tr th {\n",
       "        vertical-align: top;\n",
       "    }\n",
       "\n",
       "    .dataframe thead th {\n",
       "        text-align: right;\n",
       "    }\n",
       "</style>\n",
       "<table border=\"1\" class=\"dataframe\">\n",
       "  <thead>\n",
       "    <tr style=\"text-align: right;\">\n",
       "      <th></th>\n",
       "      <th>Nanoparticle</th>\n",
       "      <th>Type: Organic (O)/inorganic (I)</th>\n",
       "      <th>coat</th>\n",
       "      <th>Cells</th>\n",
       "      <th>Cell line (L)/primary cells (P)</th>\n",
       "      <th>Human(H)/Animal(A) cells</th>\n",
       "      <th>Animal?</th>\n",
       "      <th>Cell morphology</th>\n",
       "      <th>Cell age: embryonic (E), Adult (A)</th>\n",
       "      <th>Cell-organ/tissue source</th>\n",
       "      <th>Test</th>\n",
       "      <th>Test indicator</th>\n",
       "      <th>Biochemical metric</th>\n",
       "      <th>Interference checked (Y/N)</th>\n",
       "      <th>Colloidal stability checked (Y/N)</th>\n",
       "      <th>Positive control (Y/N)</th>\n",
       "      <th>Particle ID</th>\n",
       "      <th>Reference DOI</th>\n",
       "    </tr>\n",
       "  </thead>\n",
       "  <tbody>\n",
       "    <tr>\n",
       "      <th>count</th>\n",
       "      <td>2896</td>\n",
       "      <td>2896</td>\n",
       "      <td>1052</td>\n",
       "      <td>2896</td>\n",
       "      <td>2896</td>\n",
       "      <td>2896</td>\n",
       "      <td>651</td>\n",
       "      <td>2896</td>\n",
       "      <td>2896</td>\n",
       "      <td>2896</td>\n",
       "      <td>2896</td>\n",
       "      <td>2896</td>\n",
       "      <td>2896</td>\n",
       "      <td>2896</td>\n",
       "      <td>2896</td>\n",
       "      <td>2896</td>\n",
       "      <td>2896.0</td>\n",
       "      <td>2896</td>\n",
       "    </tr>\n",
       "    <tr>\n",
       "      <th>unique</th>\n",
       "      <td>33</td>\n",
       "      <td>2</td>\n",
       "      <td>46</td>\n",
       "      <td>81</td>\n",
       "      <td>2</td>\n",
       "      <td>2</td>\n",
       "      <td>8</td>\n",
       "      <td>15</td>\n",
       "      <td>2</td>\n",
       "      <td>30</td>\n",
       "      <td>23</td>\n",
       "      <td>17</td>\n",
       "      <td>6</td>\n",
       "      <td>2</td>\n",
       "      <td>2</td>\n",
       "      <td>2</td>\n",
       "      <td>118.0</td>\n",
       "      <td>89</td>\n",
       "    </tr>\n",
       "    <tr>\n",
       "      <th>top</th>\n",
       "      <td>Iron oxide</td>\n",
       "      <td>I</td>\n",
       "      <td>PEI</td>\n",
       "      <td>A549</td>\n",
       "      <td>L</td>\n",
       "      <td>H</td>\n",
       "      <td>Mouse</td>\n",
       "      <td>Epithelial</td>\n",
       "      <td>A</td>\n",
       "      <td>Blood</td>\n",
       "      <td>MTT</td>\n",
       "      <td>tetrazolium salt</td>\n",
       "      <td>cell metabolic activity</td>\n",
       "      <td>N</td>\n",
       "      <td>N</td>\n",
       "      <td>N</td>\n",
       "      <td>19.0</td>\n",
       "      <td>10.1186/1556-276X-7-77</td>\n",
       "    </tr>\n",
       "    <tr>\n",
       "      <th>freq</th>\n",
       "      <td>490</td>\n",
       "      <td>2274</td>\n",
       "      <td>123</td>\n",
       "      <td>298</td>\n",
       "      <td>2356</td>\n",
       "      <td>2231</td>\n",
       "      <td>411</td>\n",
       "      <td>1456</td>\n",
       "      <td>2757</td>\n",
       "      <td>536</td>\n",
       "      <td>872</td>\n",
       "      <td>1302</td>\n",
       "      <td>1678</td>\n",
       "      <td>2348</td>\n",
       "      <td>2309</td>\n",
       "      <td>2395</td>\n",
       "      <td>225.0</td>\n",
       "      <td>225</td>\n",
       "    </tr>\n",
       "  </tbody>\n",
       "</table>\n",
       "</div>"
      ],
      "text/plain": [
       "       Nanoparticle Type: Organic (O)/inorganic (I)  coat Cells  \\\n",
       "count          2896                            2896  1052  2896   \n",
       "unique           33                               2    46    81   \n",
       "top      Iron oxide                               I   PEI  A549   \n",
       "freq            490                            2274   123   298   \n",
       "\n",
       "       Cell line (L)/primary cells (P) Human(H)/Animal(A) cells Animal?  \\\n",
       "count                             2896                     2896     651   \n",
       "unique                               2                        2       8   \n",
       "top                                  L                        H   Mouse   \n",
       "freq                              2356                     2231     411   \n",
       "\n",
       "       Cell morphology Cell age: embryonic (E), Adult (A)  \\\n",
       "count             2896                               2896   \n",
       "unique              15                                  2   \n",
       "top         Epithelial                                  A   \n",
       "freq              1456                               2757   \n",
       "\n",
       "       Cell-organ/tissue source  Test    Test indicator  \\\n",
       "count                      2896  2896              2896   \n",
       "unique                       30    23                17   \n",
       "top                       Blood   MTT  tetrazolium salt   \n",
       "freq                        536   872              1302   \n",
       "\n",
       "             Biochemical metric Interference checked (Y/N)  \\\n",
       "count                      2896                       2896   \n",
       "unique                        6                          2   \n",
       "top     cell metabolic activity                          N   \n",
       "freq                       1678                       2348   \n",
       "\n",
       "       Colloidal stability checked (Y/N) Positive control (Y/N)  Particle ID  \\\n",
       "count                               2896                   2896       2896.0   \n",
       "unique                                 2                      2        118.0   \n",
       "top                                    N                      N         19.0   \n",
       "freq                                2309                   2395        225.0   \n",
       "\n",
       "                 Reference DOI  \n",
       "count                     2896  \n",
       "unique                      89  \n",
       "top     10.1186/1556-276X-7-77  \n",
       "freq                       225  "
      ]
     },
     "execution_count": 5,
     "metadata": {},
     "output_type": "execute_result"
    }
   ],
   "source": [
    "df.describe(include=\"object\")"
   ]
  },
  {
   "cell_type": "markdown",
   "metadata": {},
   "source": [
    "Table below shows the percentage of missing values."
   ]
  },
  {
   "cell_type": "code",
   "execution_count": 6,
   "metadata": {},
   "outputs": [
    {
     "data": {
      "text/html": [
       "<div>\n",
       "<style scoped>\n",
       "    .dataframe tbody tr th:only-of-type {\n",
       "        vertical-align: middle;\n",
       "    }\n",
       "\n",
       "    .dataframe tbody tr th {\n",
       "        vertical-align: top;\n",
       "    }\n",
       "\n",
       "    .dataframe thead th {\n",
       "        text-align: right;\n",
       "    }\n",
       "</style>\n",
       "<table border=\"1\" class=\"dataframe\">\n",
       "  <thead>\n",
       "    <tr style=\"text-align: right;\">\n",
       "      <th></th>\n",
       "      <th>Nanoparticle</th>\n",
       "      <th>Type: Organic (O)/inorganic (I)</th>\n",
       "      <th>coat</th>\n",
       "      <th>Cells</th>\n",
       "      <th>Cell line (L)/primary cells (P)</th>\n",
       "      <th>Human(H)/Animal(A) cells</th>\n",
       "      <th>Animal?</th>\n",
       "      <th>Cell morphology</th>\n",
       "      <th>Cell age: embryonic (E), Adult (A)</th>\n",
       "      <th>Cell-organ/tissue source</th>\n",
       "      <th>Test</th>\n",
       "      <th>Test indicator</th>\n",
       "      <th>Biochemical metric</th>\n",
       "      <th>Interference checked (Y/N)</th>\n",
       "      <th>Colloidal stability checked (Y/N)</th>\n",
       "      <th>Positive control (Y/N)</th>\n",
       "      <th>Reference DOI</th>\n",
       "    </tr>\n",
       "  </thead>\n",
       "  <tbody>\n",
       "    <tr>\n",
       "      <th>%na</th>\n",
       "      <td>0.0</td>\n",
       "      <td>0.0</td>\n",
       "      <td>63.674033</td>\n",
       "      <td>0.0</td>\n",
       "      <td>0.0</td>\n",
       "      <td>0.0</td>\n",
       "      <td>77.520718</td>\n",
       "      <td>0.0</td>\n",
       "      <td>0.0</td>\n",
       "      <td>0.0</td>\n",
       "      <td>0.0</td>\n",
       "      <td>0.0</td>\n",
       "      <td>0.0</td>\n",
       "      <td>0.0</td>\n",
       "      <td>0.0</td>\n",
       "      <td>0.0</td>\n",
       "      <td>0.0</td>\n",
       "    </tr>\n",
       "  </tbody>\n",
       "</table>\n",
       "</div>"
      ],
      "text/plain": [
       "     Nanoparticle  Type: Organic (O)/inorganic (I)       coat  Cells  \\\n",
       "%na           0.0                              0.0  63.674033    0.0   \n",
       "\n",
       "     Cell line (L)/primary cells (P)  Human(H)/Animal(A) cells    Animal?  \\\n",
       "%na                              0.0                       0.0  77.520718   \n",
       "\n",
       "     Cell morphology  Cell age: embryonic (E), Adult (A)  \\\n",
       "%na              0.0                                 0.0   \n",
       "\n",
       "     Cell-organ/tissue source  Test  Test indicator  Biochemical metric  \\\n",
       "%na                       0.0   0.0             0.0                 0.0   \n",
       "\n",
       "     Interference checked (Y/N)  Colloidal stability checked (Y/N)  \\\n",
       "%na                         0.0                                0.0   \n",
       "\n",
       "     Positive control (Y/N)  Reference DOI  \n",
       "%na                     0.0            0.0  "
      ]
     },
     "execution_count": 6,
     "metadata": {},
     "output_type": "execute_result"
    }
   ],
   "source": [
    "df_null = pd.DataFrame(df[qual_cols].isnull().sum()/len(df)*100, columns = [\"%na\"]).transpose()\n",
    "df_null"
   ]
  },
  {
   "cell_type": "markdown",
   "metadata": {},
   "source": [
    "As described in the paper, there are many missing values for `coat`. The missing values in `Animal?` are not relevant -this column will be replaced with an `organism` column. "
   ]
  },
  {
   "cell_type": "code",
   "execution_count": 7,
   "metadata": {},
   "outputs": [],
   "source": [
    "df[qual_cols] = df[qual_cols].fillna('')"
   ]
  },
  {
   "cell_type": "markdown",
   "metadata": {},
   "source": [
    "## Quantitative features"
   ]
  },
  {
   "cell_type": "code",
   "execution_count": 8,
   "metadata": {},
   "outputs": [
    {
     "data": {
      "text/html": [
       "<div>\n",
       "<style scoped>\n",
       "    .dataframe tbody tr th:only-of-type {\n",
       "        vertical-align: middle;\n",
       "    }\n",
       "\n",
       "    .dataframe tbody tr th {\n",
       "        vertical-align: top;\n",
       "    }\n",
       "\n",
       "    .dataframe thead th {\n",
       "        text-align: right;\n",
       "    }\n",
       "</style>\n",
       "<table border=\"1\" class=\"dataframe\">\n",
       "  <thead>\n",
       "    <tr style=\"text-align: right;\">\n",
       "      <th></th>\n",
       "      <th>Diameter (nm)</th>\n",
       "      <th>Concentration μM</th>\n",
       "      <th>Zeta potential (mV)</th>\n",
       "      <th>Exposure time (h)</th>\n",
       "      <th>% Cell viability</th>\n",
       "    </tr>\n",
       "  </thead>\n",
       "  <tbody>\n",
       "    <tr>\n",
       "      <th>count</th>\n",
       "      <td>2896.000000</td>\n",
       "      <td>2.896000e+03</td>\n",
       "      <td>1261.000000</td>\n",
       "      <td>2896.000000</td>\n",
       "      <td>2896.000000</td>\n",
       "    </tr>\n",
       "    <tr>\n",
       "      <th>mean</th>\n",
       "      <td>125.082465</td>\n",
       "      <td>8.574635e+01</td>\n",
       "      <td>-1.963933</td>\n",
       "      <td>35.515539</td>\n",
       "      <td>75.208409</td>\n",
       "    </tr>\n",
       "    <tr>\n",
       "      <th>std</th>\n",
       "      <td>171.931194</td>\n",
       "      <td>7.979487e+02</td>\n",
       "      <td>28.925259</td>\n",
       "      <td>27.950149</td>\n",
       "      <td>34.267026</td>\n",
       "    </tr>\n",
       "    <tr>\n",
       "      <th>min</th>\n",
       "      <td>1.000000</td>\n",
       "      <td>1.660539e-20</td>\n",
       "      <td>-48.000000</td>\n",
       "      <td>1.000000</td>\n",
       "      <td>-58.897640</td>\n",
       "    </tr>\n",
       "    <tr>\n",
       "      <th>25%</th>\n",
       "      <td>20.000000</td>\n",
       "      <td>2.500000e-06</td>\n",
       "      <td>-27.000000</td>\n",
       "      <td>24.000000</td>\n",
       "      <td>54.219643</td>\n",
       "    </tr>\n",
       "    <tr>\n",
       "      <th>50%</th>\n",
       "      <td>49.200000</td>\n",
       "      <td>5.000000e-04</td>\n",
       "      <td>-8.000000</td>\n",
       "      <td>24.000000</td>\n",
       "      <td>86.965674</td>\n",
       "    </tr>\n",
       "    <tr>\n",
       "      <th>75%</th>\n",
       "      <td>165.000000</td>\n",
       "      <td>1.054755e-02</td>\n",
       "      <td>17.700000</td>\n",
       "      <td>48.000000</td>\n",
       "      <td>97.652370</td>\n",
       "    </tr>\n",
       "    <tr>\n",
       "      <th>max</th>\n",
       "      <td>957.000000</td>\n",
       "      <td>1.500000e+04</td>\n",
       "      <td>87.000000</td>\n",
       "      <td>336.000000</td>\n",
       "      <td>404.811700</td>\n",
       "    </tr>\n",
       "    <tr>\n",
       "      <th>%na</th>\n",
       "      <td>0.000000</td>\n",
       "      <td>0.000000e+00</td>\n",
       "      <td>56.457182</td>\n",
       "      <td>0.000000</td>\n",
       "      <td>0.000000</td>\n",
       "    </tr>\n",
       "  </tbody>\n",
       "</table>\n",
       "</div>"
      ],
      "text/plain": [
       "       Diameter (nm)  Concentration μM  Zeta potential (mV)  \\\n",
       "count    2896.000000      2.896000e+03          1261.000000   \n",
       "mean      125.082465      8.574635e+01            -1.963933   \n",
       "std       171.931194      7.979487e+02            28.925259   \n",
       "min         1.000000      1.660539e-20           -48.000000   \n",
       "25%        20.000000      2.500000e-06           -27.000000   \n",
       "50%        49.200000      5.000000e-04            -8.000000   \n",
       "75%       165.000000      1.054755e-02            17.700000   \n",
       "max       957.000000      1.500000e+04            87.000000   \n",
       "%na         0.000000      0.000000e+00            56.457182   \n",
       "\n",
       "       Exposure time (h)  % Cell viability  \n",
       "count        2896.000000       2896.000000  \n",
       "mean           35.515539         75.208409  \n",
       "std            27.950149         34.267026  \n",
       "min             1.000000        -58.897640  \n",
       "25%            24.000000         54.219643  \n",
       "50%            24.000000         86.965674  \n",
       "75%            48.000000         97.652370  \n",
       "max           336.000000        404.811700  \n",
       "%na             0.000000          0.000000  "
      ]
     },
     "metadata": {},
     "output_type": "display_data"
    },
    {
     "data": {
      "text/markdown": [
       "The overall percentage of missing values in the quantitative features is 2.352%."
      ],
      "text/plain": [
       "<IPython.core.display.Markdown object>"
      ]
     },
     "metadata": {},
     "output_type": "display_data"
    }
   ],
   "source": [
    "describe = df.drop([\"Particle ID\", \"Publication year\"], axis=1).describe()\n",
    "cols_d = [i for i in describe.columns]\n",
    "nas = [df[col].isna().sum()/len(df[col])*100 for col in cols_d]\n",
    "describe.loc[\"%na\"] = nas\n",
    "display(describe)\n",
    "na_overall = str(np.round(df.isna().sum().sum() / df.size * 100, 3))\n",
    "display(Markdown(\"The overall percentage of missing values in the quantitative features is {}%.\".format(na_overall)))"
   ]
  },
  {
   "cell_type": "markdown",
   "metadata": {},
   "source": [
    "As described in the paper, the amount of rows missing `Zeta potential` measurements is very high."
   ]
  },
  {
   "cell_type": "markdown",
   "metadata": {},
   "source": [
    "# Cleaning data\n",
    "\n",
    "(TBD)"
   ]
  },
  {
   "cell_type": "code",
   "execution_count": 9,
   "metadata": {},
   "outputs": [],
   "source": [
    "df[\"Organism\"] = [val if val !=\"\" else \"Human\" for val in df[\"Animal?\"]]\n",
    "df[\"DOI\"] = [\"\" if \"(\" in val else \"https://doi.org/\"+val for val in df[\"Reference DOI\"]]\n",
    "df[\"Reference\"] = [val.replace(\"not provided (\", \"https://\").replace(\")\", \"\") if \"(\" in val else \"\" for val in df[\"Reference DOI\"]]\n",
    "df[\"Type\"] = [\"organic\" if val==\"O\" else \"inorganic\" for val in df[\"Type: Organic (O)/inorganic (I)\"]]"
   ]
  },
  {
   "cell_type": "markdown",
   "metadata": {},
   "source": [
    "# Mapping terms with the eNanoMapper ontology\n",
    "The [Ontology Lookup Service](https://www.ebi.ac.uk/ols/index) [search API](https://www.ebi.ac.uk/ols/docs/api) is used to retrieve IRI and labels for matches of terms. These can be used as input in a workflow that creates the `RML` model.\n",
    "\n",
    "## Column names\n",
    "Some axioms will be added with the column names as predicates (i.e., measured values like Concentration). The widget below retrieves the best matches from the [Ontology Lookup Service](https://www.ebi.ac.uk/ols/docs/api#Search) for reference for these columns.\n",
    "\n",
    "Defining a function that looks up column names in the OLS and retrieves all the matches:"
   ]
  },
  {
   "cell_type": "code",
   "execution_count": 10,
   "metadata": {},
   "outputs": [],
   "source": [
    "def ols_lookup(var_list, base_url = \"https://www.ebi.ac.uk\", get_query = \"/ols/api/search?q={}&groupField=iri&start=0&ontology=enm\"):\n",
    "    allign = dict()\n",
    "    for var in var_list:\n",
    "        r = requests.get(base_url+get_query.format(var))\n",
    "        d = dict(r.json())\n",
    "        matches = dict()\n",
    "        for match in range(len(d[\"response\"][\"docs\"])):\n",
    "            label = d[\"response\"][\"docs\"][match][\"label\"]\n",
    "            iri = d[\"response\"][\"docs\"][match][\"iri\"]\n",
    "            matches[label] = iri\n",
    "        allign[var] = matches\n",
    "    return allign"
   ]
  },
  {
   "cell_type": "code",
   "execution_count": 11,
   "metadata": {},
   "outputs": [],
   "source": [
    "allign = ols_lookup(list(df.columns))"
   ]
  },
  {
   "cell_type": "markdown",
   "metadata": {},
   "source": [
    "Using the function on the data and visualizing the results:"
   ]
  },
  {
   "cell_type": "code",
   "execution_count": 12,
   "metadata": {},
   "outputs": [
    {
     "data": {
      "application/vnd.jupyter.widget-view+json": {
       "model_id": "15ae2676b6884a58b6f8203c80cf02fd",
       "version_major": 2,
       "version_minor": 0
      },
      "text/plain": [
       "interactive(children=(Dropdown(description='select', options={'Nanoparticle': {'nanoparticle': 'http://purl.bi…"
      ]
     },
     "metadata": {},
     "output_type": "display_data"
    }
   ],
   "source": [
    "mapping_cols = pd.DataFrame([\"a\" for i in list(allign.keys())], list(allign.keys()), columns=[\"Mapping\"])\n",
    "select_var = Select(options = allign.keys())\n",
    "@interact(select = allign)\n",
    "def show_matches(select):\n",
    "    display(Markdown(\"Below are the matches returned by the OLS.\")) \n",
    "    display(pd.DataFrame([select]).transpose())     "
   ]
  },
  {
   "cell_type": "markdown",
   "metadata": {},
   "source": [
    "## Cell values\n",
    "The unique values are analyzed individually with a similar approach as above. For the cells whose object is `subject a (cell content)`:"
   ]
  },
  {
   "cell_type": "code",
   "execution_count": 13,
   "metadata": {},
   "outputs": [
    {
     "data": {
      "text/markdown": [
       "**Quantitative vars:**\n",
       "- Exposure time (h)\n",
       "- Concentration μM\n",
       "- Zeta potential (mV)\n",
       "- Reference\n",
       "- Publication year\n",
       "- % Cell viability\n",
       "- Diameter (nm)\n",
       "- DOI"
      ],
      "text/plain": [
       "<IPython.core.display.Markdown object>"
      ]
     },
     "metadata": {},
     "output_type": "display_data"
    },
    {
     "data": {
      "text/markdown": [
       "**Qualitative vars:**\n",
       "- Nanoparticle\n",
       "- coat\n",
       "- Cells\n",
       "- Cell line (L)/primary cells (P)\n",
       "- Human(H)/Animal(A) cells\n",
       "- Cell morphology\n",
       "- Cell-organ/tissue source\n",
       "- Test\n",
       "- Test indicator\n",
       "- Biochemical metric"
      ],
      "text/plain": [
       "<IPython.core.display.Markdown object>"
      ]
     },
     "metadata": {},
     "output_type": "display_data"
    },
    {
     "data": {
      "text/markdown": [
       "**RDF:type / owl:SubClassOf: / owl:namedIndividual: / rr:datatype xsd:(e.g. double)**\n",
       "- Particle ID\n",
       "- Type: Organic (O)/inorganic (I)\n",
       "- Cell age: embryonic (E), Adult (A)\n",
       "- Positive control (Y/N)\n",
       "- Colloidal stability checked (Y/N)\n",
       "- Interference checked (Y/N)\n",
       "- Animal?\n",
       "- Organism\n",
       "- Type\n",
       "- Reference DOI"
      ],
      "text/plain": [
       "<IPython.core.display.Markdown object>"
      ]
     },
     "metadata": {},
     "output_type": "display_data"
    }
   ],
   "source": [
    "subject_a = [\"Particle ID\", \"Type: Organic (O)/inorganic (I)\", \"Cell age: embryonic (E), Adult (A)\", \n",
    "            \"Positive control (Y/N)\", \"Colloidal stability checked (Y/N)\", \"Interference checked (Y/N)\", \n",
    "             \"Animal?\", \"Organism\", \"Type\", \"Reference DOI\"] # Use this to select which are the factor columns\n",
    "qual_cols = [i for i in qual_cols if i not in subject_a] \n",
    "quant_cols = {col:'' for col in set(df.columns) - set(subject_a) - set(qual_cols)}\n",
    "str_quant = \"- \" + \"\\n- \".join(list(quant_cols.keys()))\n",
    "display(Markdown(\"**Quantitative vars:**\\n\" + str_quant))\n",
    "str_qual = str_qual = \"- \" + \"\\n- \".join(qual_cols)\n",
    "display(Markdown(\"**Qualitative vars:**\\n\" +str_qual))\n",
    "str_subject_a = \"- \" + \"\\n- \".join(subject_a)\n",
    "display(Markdown(\"**RDF:type / owl:SubClassOf: / owl:namedIndividual: / rr:datatype xsd:(e.g. double)**\\n\" +str_subject_a))"
   ]
  },
  {
   "cell_type": "code",
   "execution_count": 14,
   "metadata": {},
   "outputs": [],
   "source": [
    "allign = {col : ols_lookup(np.unique(df[col])) for col in qual_cols}\n",
    "all_keys = [allign[col].keys() for col in allign.keys()]\n",
    "all_keys = [key_key for key in all_keys for key_key in key]\n",
    "matches = {key:[] for key in all_keys}"
   ]
  },
  {
   "cell_type": "code",
   "execution_count": 32,
   "metadata": {},
   "outputs": [
    {
     "data": {
      "application/vnd.jupyter.widget-view+json": {
       "model_id": "95e40a2686f447d2b027d76e3fe9da60",
       "version_major": 2,
       "version_minor": 0
      },
      "text/plain": [
       "interactive(children=(Select(description='select_col', options=('Nanoparticle', 'coat', 'Cells', 'Cell line (L…"
      ]
     },
     "metadata": {},
     "output_type": "display_data"
    }
   ],
   "source": [
    "select_col = Select(options = qual_cols,)\n",
    "select_var = Select(options = allign[select_col.value].keys())\n",
    "def update_var(*args):\n",
    "    select_var.options = allign[select_col.value].keys()\n",
    "select_var.observe(update_var)\n",
    "    \n",
    "\n",
    "\n",
    "input_iris = Textarea(layout = widgets.Layout(width='800px'))\n",
    "map_button = Button(description = \"Assign IRIs\")\n",
    "out = widgets.Output(layout={'border': '0px solid black'})\n",
    "\n",
    "\n",
    "\n",
    "            \n",
    "def display_mapping(*args):\n",
    "    display(pd.DataFrame([allign[select_col.value][select_var.value]]).transpose())\n",
    "    \n",
    "def display_matches(*args):\n",
    "    match_str = \"\\n- \".join(matches[select_var.value])\n",
    "    print(\"Matches for {}:\\n- {}\".format(select_var.value, match_str))\n",
    "\n",
    "def map_click(*args):\n",
    "    with out:\n",
    "        out.clear_output()\n",
    "        if \"http\" in input_iris.value and input_iris.value not in matches[select_var.value]:\n",
    "            matches[select_var.value] += list(np.unique(input_iris.value.split(\"\\n\")))\n",
    "            display(Markdown(\"{} was assigned IRI(s): {}\".format(select_var.value, list(np.unique(input_iris.value.split(\"\\n\"))))))\n",
    "            display_matches()\n",
    "\n",
    "            \n",
    "\n",
    "@interact(select_var = select_var, input_iris = input_iris, select_col = select_col, allign = allign)\n",
    "def show_matches(select_col, select_var, input_iris):\n",
    "    display(out)\n",
    "    display(map_button)\n",
    "    iris = map_button.on_click(map_click)\n",
    "    display(Markdown(\"#### Click the button to assign IRIs in `input_iris` to the highlighted term {}.\".format(select_var)))\n",
    "    display(Markdown(\"------\"))\n",
    "    display(Markdown(\"Below are the **eNanoMapper ontology matches** (label, IRI) returned by the OLS for **{} ({})**\".format(select_var, select_col))) \n",
    "    display_mapping()\n",
    "#ToDo: display the about text or description for the term? also show superclass of the term? // load the existent pickle    "
   ]
  },
  {
   "cell_type": "code",
   "execution_count": 33,
   "metadata": {},
   "outputs": [
    {
     "data": {
      "text/markdown": [
       "#### Ag : \n",
       "\t- "
      ],
      "text/plain": [
       "<IPython.core.display.Markdown object>"
      ]
     },
     "metadata": {},
     "output_type": "display_data"
    },
    {
     "data": {
      "text/markdown": [
       "#### Al2O3 : \n",
       "\t- "
      ],
      "text/plain": [
       "<IPython.core.display.Markdown object>"
      ]
     },
     "metadata": {},
     "output_type": "display_data"
    },
    {
     "data": {
      "text/markdown": [
       "#### Au : \n",
       "\t- http://purl.bioontology.org/ontology/npo#NPO_401"
      ],
      "text/plain": [
       "<IPython.core.display.Markdown object>"
      ]
     },
     "metadata": {},
     "output_type": "display_data"
    },
    {
     "data": {
      "text/markdown": [
       "#### Bi : \n",
       "\t- http://purl.enanomapper.org/onto/ENM_9000247"
      ],
      "text/plain": [
       "<IPython.core.display.Markdown object>"
      ]
     },
     "metadata": {},
     "output_type": "display_data"
    },
    {
     "data": {
      "text/markdown": [
       "#### Carbon NP : \n",
       "\t- "
      ],
      "text/plain": [
       "<IPython.core.display.Markdown object>"
      ]
     },
     "metadata": {},
     "output_type": "display_data"
    },
    {
     "data": {
      "text/markdown": [
       "#### Carbon Nanotubes : \n",
       "\t- http://purl.bioontology.org/ontology/npo#NPO_606"
      ],
      "text/plain": [
       "<IPython.core.display.Markdown object>"
      ]
     },
     "metadata": {},
     "output_type": "display_data"
    },
    {
     "data": {
      "text/markdown": [
       "#### CdO : \n",
       "\t- http://purl.enanomapper.org/onto/ENM_9000250"
      ],
      "text/plain": [
       "<IPython.core.display.Markdown object>"
      ]
     },
     "metadata": {},
     "output_type": "display_data"
    },
    {
     "data": {
      "text/markdown": [
       "#### CeO2 : \n",
       "\t- "
      ],
      "text/plain": [
       "<IPython.core.display.Markdown object>"
      ]
     },
     "metadata": {},
     "output_type": "display_data"
    },
    {
     "data": {
      "text/markdown": [
       "#### Chitosan : \n",
       "\t- http://purl.bioontology.org/ontology/npo#NPO_261"
      ],
      "text/plain": [
       "<IPython.core.display.Markdown object>"
      ]
     },
     "metadata": {},
     "output_type": "display_data"
    },
    {
     "data": {
      "text/markdown": [
       "#### Co : \n",
       "\t- "
      ],
      "text/plain": [
       "<IPython.core.display.Markdown object>"
      ]
     },
     "metadata": {},
     "output_type": "display_data"
    },
    {
     "data": {
      "text/markdown": [
       "#### Co3O4 : \n",
       "\t- http://purl.enanomapper.org/onto/ENM_9000254"
      ],
      "text/plain": [
       "<IPython.core.display.Markdown object>"
      ]
     },
     "metadata": {},
     "output_type": "display_data"
    },
    {
     "data": {
      "text/markdown": [
       "#### Cr : \n",
       "\t- "
      ],
      "text/plain": [
       "<IPython.core.display.Markdown object>"
      ]
     },
     "metadata": {},
     "output_type": "display_data"
    },
    {
     "data": {
      "text/markdown": [
       "#### Cu2O : \n",
       "\t- http://purl.obolibrary.org/obo/CHEBI_134402"
      ],
      "text/plain": [
       "<IPython.core.display.Markdown object>"
      ]
     },
     "metadata": {},
     "output_type": "display_data"
    },
    {
     "data": {
      "text/markdown": [
       "#### CuO : \n",
       "\t- http://purl.obolibrary.org/obo/CHEBI_83159"
      ],
      "text/plain": [
       "<IPython.core.display.Markdown object>"
      ]
     },
     "metadata": {},
     "output_type": "display_data"
    },
    {
     "data": {
      "text/markdown": [
       "#### CuS : \n",
       "\t- http://purl.enanomapper.org/onto/ENM_9000246"
      ],
      "text/plain": [
       "<IPython.core.display.Markdown object>"
      ]
     },
     "metadata": {},
     "output_type": "display_data"
    },
    {
     "data": {
      "text/markdown": [
       "#### Dendrimer : \n",
       "\t- http://purl.bioontology.org/ontology/npo#NPO_735"
      ],
      "text/plain": [
       "<IPython.core.display.Markdown object>"
      ]
     },
     "metadata": {},
     "output_type": "display_data"
    },
    {
     "data": {
      "text/markdown": [
       "#### Eudragit RL : \n",
       "\t- "
      ],
      "text/plain": [
       "<IPython.core.display.Markdown object>"
      ]
     },
     "metadata": {},
     "output_type": "display_data"
    },
    {
     "data": {
      "text/markdown": [
       "#### Hydroxyapatite : \n",
       "\t- http://purl.bioontology.org/ontology/npo#NPO_1568"
      ],
      "text/plain": [
       "<IPython.core.display.Markdown object>"
      ]
     },
     "metadata": {},
     "output_type": "display_data"
    },
    {
     "data": {
      "text/markdown": [
       "#### Iron oxide : \n",
       "\t- http://purl.bioontology.org/ontology/npo#NPO_729"
      ],
      "text/plain": [
       "<IPython.core.display.Markdown object>"
      ]
     },
     "metadata": {},
     "output_type": "display_data"
    },
    {
     "data": {
      "text/markdown": [
       "#### Liposomes : \n",
       "\t- "
      ],
      "text/plain": [
       "<IPython.core.display.Markdown object>"
      ]
     },
     "metadata": {},
     "output_type": "display_data"
    },
    {
     "data": {
      "text/markdown": [
       "#### MgO : \n",
       "\t- http://purl.enanomapper.org/onto/ENM_9000252"
      ],
      "text/plain": [
       "<IPython.core.display.Markdown object>"
      ]
     },
     "metadata": {},
     "output_type": "display_data"
    },
    {
     "data": {
      "text/markdown": [
       "#### MnO : \n",
       "\t- http://purl.enanomapper.org/onto/ENM_9000251"
      ],
      "text/plain": [
       "<IPython.core.display.Markdown object>"
      ]
     },
     "metadata": {},
     "output_type": "display_data"
    },
    {
     "data": {
      "text/markdown": [
       "#### Mo : \n",
       "\t- http://purl.enanomapper.org/onto/ENM_9000253"
      ],
      "text/plain": [
       "<IPython.core.display.Markdown object>"
      ]
     },
     "metadata": {},
     "output_type": "display_data"
    },
    {
     "data": {
      "text/markdown": [
       "#### PLGA : \n",
       "\t- http://purl.bioontology.org/ontology/npo#NPO_1559"
      ],
      "text/plain": [
       "<IPython.core.display.Markdown object>"
      ]
     },
     "metadata": {},
     "output_type": "display_data"
    },
    {
     "data": {
      "text/markdown": [
       "#### Polystyrene : \n",
       "\t- http://purl.obolibrary.org/obo/CHEBI_134403"
      ],
      "text/plain": [
       "<IPython.core.display.Markdown object>"
      ]
     },
     "metadata": {},
     "output_type": "display_data"
    },
    {
     "data": {
      "text/markdown": [
       "#### Pt : \n",
       "\t- "
      ],
      "text/plain": [
       "<IPython.core.display.Markdown object>"
      ]
     },
     "metadata": {},
     "output_type": "display_data"
    },
    {
     "data": {
      "text/markdown": [
       "#### QDs : \n",
       "\t- "
      ],
      "text/plain": [
       "<IPython.core.display.Markdown object>"
      ]
     },
     "metadata": {},
     "output_type": "display_data"
    },
    {
     "data": {
      "text/markdown": [
       "#### SLN : \n",
       "\t- "
      ],
      "text/plain": [
       "<IPython.core.display.Markdown object>"
      ]
     },
     "metadata": {},
     "output_type": "display_data"
    },
    {
     "data": {
      "text/markdown": [
       "#### Se : \n",
       "\t- http://purl.enanomapper.org/onto/ENM_9000244"
      ],
      "text/plain": [
       "<IPython.core.display.Markdown object>"
      ]
     },
     "metadata": {},
     "output_type": "display_data"
    },
    {
     "data": {
      "text/markdown": [
       "#### SiO2 : \n",
       "\t- http://purl.obolibrary.org/obo/CHEBI_30563"
      ],
      "text/plain": [
       "<IPython.core.display.Markdown object>"
      ]
     },
     "metadata": {},
     "output_type": "display_data"
    },
    {
     "data": {
      "text/markdown": [
       "#### Ti : \n",
       "\t- http://purl.enanomapper.org/onto/ENM_9000245"
      ],
      "text/plain": [
       "<IPython.core.display.Markdown object>"
      ]
     },
     "metadata": {},
     "output_type": "display_data"
    },
    {
     "data": {
      "text/markdown": [
       "#### TiO2 : \n",
       "\t- http://purl.obolibrary.org/obo/CHEBI_51050"
      ],
      "text/plain": [
       "<IPython.core.display.Markdown object>"
      ]
     },
     "metadata": {},
     "output_type": "display_data"
    },
    {
     "data": {
      "text/markdown": [
       "#### ZnO : \n",
       "\t- http://purl.bioontology.org/ontology/npo#NPO_1542"
      ],
      "text/plain": [
       "<IPython.core.display.Markdown object>"
      ]
     },
     "metadata": {},
     "output_type": "display_data"
    },
    {
     "data": {
      "text/markdown": [
       "####  : \n",
       "\t- "
      ],
      "text/plain": [
       "<IPython.core.display.Markdown object>"
      ]
     },
     "metadata": {},
     "output_type": "display_data"
    },
    {
     "data": {
      "text/markdown": [
       "#### 3-mercaptopropionic acid (COOH) : \n",
       "\t- "
      ],
      "text/plain": [
       "<IPython.core.display.Markdown object>"
      ]
     },
     "metadata": {},
     "output_type": "display_data"
    },
    {
     "data": {
      "text/markdown": [
       "#### BSA : \n",
       "\t- "
      ],
      "text/plain": [
       "<IPython.core.display.Markdown object>"
      ]
     },
     "metadata": {},
     "output_type": "display_data"
    },
    {
     "data": {
      "text/markdown": [
       "#### COOH : \n",
       "\t- "
      ],
      "text/plain": [
       "<IPython.core.display.Markdown object>"
      ]
     },
     "metadata": {},
     "output_type": "display_data"
    },
    {
     "data": {
      "text/markdown": [
       "#### COONa : \n",
       "\t- "
      ],
      "text/plain": [
       "<IPython.core.display.Markdown object>"
      ]
     },
     "metadata": {},
     "output_type": "display_data"
    },
    {
     "data": {
      "text/markdown": [
       "#### CTAB : \n",
       "\t- "
      ],
      "text/plain": [
       "<IPython.core.display.Markdown object>"
      ]
     },
     "metadata": {},
     "output_type": "display_data"
    },
    {
     "data": {
      "text/markdown": [
       "#### Citrate : \n",
       "\t- "
      ],
      "text/plain": [
       "<IPython.core.display.Markdown object>"
      ]
     },
     "metadata": {},
     "output_type": "display_data"
    },
    {
     "data": {
      "text/markdown": [
       "#### Citrate and PVP : \n",
       "\t- "
      ],
      "text/plain": [
       "<IPython.core.display.Markdown object>"
      ]
     },
     "metadata": {},
     "output_type": "display_data"
    },
    {
     "data": {
      "text/markdown": [
       "#### D-penicillamine (NH2/COOH) : \n",
       "\t- "
      ],
      "text/plain": [
       "<IPython.core.display.Markdown object>"
      ]
     },
     "metadata": {},
     "output_type": "display_data"
    },
    {
     "data": {
      "text/markdown": [
       "#### Dextran : \n",
       "\t- "
      ],
      "text/plain": [
       "<IPython.core.display.Markdown object>"
      ]
     },
     "metadata": {},
     "output_type": "display_data"
    },
    {
     "data": {
      "text/markdown": [
       "#### Digestive enzymes : \n",
       "\t- "
      ],
      "text/plain": [
       "<IPython.core.display.Markdown object>"
      ]
     },
     "metadata": {},
     "output_type": "display_data"
    },
    {
     "data": {
      "text/markdown": [
       "#### Folic acid : \n",
       "\t- "
      ],
      "text/plain": [
       "<IPython.core.display.Markdown object>"
      ]
     },
     "metadata": {},
     "output_type": "display_data"
    },
    {
     "data": {
      "text/markdown": [
       "#### Gum Arabic : \n",
       "\t- "
      ],
      "text/plain": [
       "<IPython.core.display.Markdown object>"
      ]
     },
     "metadata": {},
     "output_type": "display_data"
    },
    {
     "data": {
      "text/markdown": [
       "#### Hyaluronic acid : \n",
       "\t- "
      ],
      "text/plain": [
       "<IPython.core.display.Markdown object>"
      ]
     },
     "metadata": {},
     "output_type": "display_data"
    },
    {
     "data": {
      "text/markdown": [
       "#### Hyaluronic acid  : \n",
       "\t- "
      ],
      "text/plain": [
       "<IPython.core.display.Markdown object>"
      ]
     },
     "metadata": {},
     "output_type": "display_data"
    },
    {
     "data": {
      "text/markdown": [
       "#### NH2 : \n",
       "\t- "
      ],
      "text/plain": [
       "<IPython.core.display.Markdown object>"
      ]
     },
     "metadata": {},
     "output_type": "display_data"
    },
    {
     "data": {
      "text/markdown": [
       "#### PEG : \n",
       "\t- "
      ],
      "text/plain": [
       "<IPython.core.display.Markdown object>"
      ]
     },
     "metadata": {},
     "output_type": "display_data"
    },
    {
     "data": {
      "text/markdown": [
       "#### PEG to the PEI : \n",
       "\t- "
      ],
      "text/plain": [
       "<IPython.core.display.Markdown object>"
      ]
     },
     "metadata": {},
     "output_type": "display_data"
    },
    {
     "data": {
      "text/markdown": [
       "#### PEG-COOH : \n",
       "\t- "
      ],
      "text/plain": [
       "<IPython.core.display.Markdown object>"
      ]
     },
     "metadata": {},
     "output_type": "display_data"
    },
    {
     "data": {
      "text/markdown": [
       "#### PEG-NH2 : \n",
       "\t- "
      ],
      "text/plain": [
       "<IPython.core.display.Markdown object>"
      ]
     },
     "metadata": {},
     "output_type": "display_data"
    },
    {
     "data": {
      "text/markdown": [
       "#### PEG-OCH3 : \n",
       "\t- "
      ],
      "text/plain": [
       "<IPython.core.display.Markdown object>"
      ]
     },
     "metadata": {},
     "output_type": "display_data"
    },
    {
     "data": {
      "text/markdown": [
       "#### PEI : \n",
       "\t- "
      ],
      "text/plain": [
       "<IPython.core.display.Markdown object>"
      ]
     },
     "metadata": {},
     "output_type": "display_data"
    },
    {
     "data": {
      "text/markdown": [
       "#### PVA : \n",
       "\t- "
      ],
      "text/plain": [
       "<IPython.core.display.Markdown object>"
      ]
     },
     "metadata": {},
     "output_type": "display_data"
    },
    {
     "data": {
      "text/markdown": [
       "#### PVP : \n",
       "\t- "
      ],
      "text/plain": [
       "<IPython.core.display.Markdown object>"
      ]
     },
     "metadata": {},
     "output_type": "display_data"
    },
    {
     "data": {
      "text/markdown": [
       "#### Phosphonate : \n",
       "\t- "
      ],
      "text/plain": [
       "<IPython.core.display.Markdown object>"
      ]
     },
     "metadata": {},
     "output_type": "display_data"
    },
    {
     "data": {
      "text/markdown": [
       "#### Poloxamer 188 (Pluronic F68) : \n",
       "\t- "
      ],
      "text/plain": [
       "<IPython.core.display.Markdown object>"
      ]
     },
     "metadata": {},
     "output_type": "display_data"
    },
    {
     "data": {
      "text/markdown": [
       "#### SGF : \n",
       "\t- "
      ],
      "text/plain": [
       "<IPython.core.display.Markdown object>"
      ]
     },
     "metadata": {},
     "output_type": "display_data"
    },
    {
     "data": {
      "text/markdown": [
       "#### SO3Na : \n",
       "\t- "
      ],
      "text/plain": [
       "<IPython.core.display.Markdown object>"
      ]
     },
     "metadata": {},
     "output_type": "display_data"
    },
    {
     "data": {
      "text/markdown": [
       "#### Sodium borohydride : \n",
       "\t- "
      ],
      "text/plain": [
       "<IPython.core.display.Markdown object>"
      ]
     },
     "metadata": {},
     "output_type": "display_data"
    },
    {
     "data": {
      "text/markdown": [
       "#### Star anise : \n",
       "\t- "
      ],
      "text/plain": [
       "<IPython.core.display.Markdown object>"
      ]
     },
     "metadata": {},
     "output_type": "display_data"
    },
    {
     "data": {
      "text/markdown": [
       "#### Starch : \n",
       "\t- "
      ],
      "text/plain": [
       "<IPython.core.display.Markdown object>"
      ]
     },
     "metadata": {},
     "output_type": "display_data"
    },
    {
     "data": {
      "text/markdown": [
       "#### TGA : \n",
       "\t- "
      ],
      "text/plain": [
       "<IPython.core.display.Markdown object>"
      ]
     },
     "metadata": {},
     "output_type": "display_data"
    },
    {
     "data": {
      "text/markdown": [
       "#### TGA-gelatine : \n",
       "\t- "
      ],
      "text/plain": [
       "<IPython.core.display.Markdown object>"
      ]
     },
     "metadata": {},
     "output_type": "display_data"
    },
    {
     "data": {
      "text/markdown": [
       "#### Tween 80 : \n",
       "\t- "
      ],
      "text/plain": [
       "<IPython.core.display.Markdown object>"
      ]
     },
     "metadata": {},
     "output_type": "display_data"
    },
    {
     "data": {
      "text/markdown": [
       "#### Zn then cysteamine : \n",
       "\t- "
      ],
      "text/plain": [
       "<IPython.core.display.Markdown object>"
      ]
     },
     "metadata": {},
     "output_type": "display_data"
    },
    {
     "data": {
      "text/markdown": [
       "#### alginate : \n",
       "\t- "
      ],
      "text/plain": [
       "<IPython.core.display.Markdown object>"
      ]
     },
     "metadata": {},
     "output_type": "display_data"
    },
    {
     "data": {
      "text/markdown": [
       "#### alumina-simethicone : \n",
       "\t- "
      ],
      "text/plain": [
       "<IPython.core.display.Markdown object>"
      ]
     },
     "metadata": {},
     "output_type": "display_data"
    },
    {
     "data": {
      "text/markdown": [
       "#### cysteamine : \n",
       "\t- "
      ],
      "text/plain": [
       "<IPython.core.display.Markdown object>"
      ]
     },
     "metadata": {},
     "output_type": "display_data"
    },
    {
     "data": {
      "text/markdown": [
       "#### cysteamine (NH2) : \n",
       "\t- "
      ],
      "text/plain": [
       "<IPython.core.display.Markdown object>"
      ]
     },
     "metadata": {},
     "output_type": "display_data"
    },
    {
     "data": {
      "text/markdown": [
       "#### dimercaptosuccinic : \n",
       "\t- "
      ],
      "text/plain": [
       "<IPython.core.display.Markdown object>"
      ]
     },
     "metadata": {},
     "output_type": "display_data"
    },
    {
     "data": {
      "text/markdown": [
       "#### folic acid with intermediate inorganic (silica) coating : \n",
       "\t- "
      ],
      "text/plain": [
       "<IPython.core.display.Markdown object>"
      ]
     },
     "metadata": {},
     "output_type": "display_data"
    },
    {
     "data": {
      "text/markdown": [
       "#### folic acid with intermediate organic (PEG) coating : \n",
       "\t- "
      ],
      "text/plain": [
       "<IPython.core.display.Markdown object>"
      ]
     },
     "metadata": {},
     "output_type": "display_data"
    },
    {
     "data": {
      "text/markdown": [
       "#### l-cysteine l-lysine l-lysine : \n",
       "\t- "
      ],
      "text/plain": [
       "<IPython.core.display.Markdown object>"
      ]
     },
     "metadata": {},
     "output_type": "display_data"
    },
    {
     "data": {
      "text/markdown": [
       "#### metal catalyst residues : \n",
       "\t- "
      ],
      "text/plain": [
       "<IPython.core.display.Markdown object>"
      ]
     },
     "metadata": {},
     "output_type": "display_data"
    },
    {
     "data": {
      "text/markdown": [
       "#### silica : \n",
       "\t- "
      ],
      "text/plain": [
       "<IPython.core.display.Markdown object>"
      ]
     },
     "metadata": {},
     "output_type": "display_data"
    },
    {
     "data": {
      "text/markdown": [
       "#### simethicone then esters on top : \n",
       "\t- "
      ],
      "text/plain": [
       "<IPython.core.display.Markdown object>"
      ]
     },
     "metadata": {},
     "output_type": "display_data"
    },
    {
     "data": {
      "text/markdown": [
       "#### A431 : \n",
       "\t- http://www.ebi.ac.uk/efo/EFO_0006268"
      ],
      "text/plain": [
       "<IPython.core.display.Markdown object>"
      ]
     },
     "metadata": {},
     "output_type": "display_data"
    },
    {
     "data": {
      "text/markdown": [
       "#### A549 : \n",
       "\t- http://purl.obolibrary.org/obo/BTO_0000018"
      ],
      "text/plain": [
       "<IPython.core.display.Markdown object>"
      ]
     },
     "metadata": {},
     "output_type": "display_data"
    },
    {
     "data": {
      "text/markdown": [
       "#### AGS : \n",
       "\t- http://www.ebi.ac.uk/efo/EFO_0002109"
      ],
      "text/plain": [
       "<IPython.core.display.Markdown object>"
      ]
     },
     "metadata": {},
     "output_type": "display_data"
    },
    {
     "data": {
      "text/markdown": [
       "#### B cells : \n",
       "\t- "
      ],
      "text/plain": [
       "<IPython.core.display.Markdown object>"
      ]
     },
     "metadata": {},
     "output_type": "display_data"
    },
    {
     "data": {
      "text/markdown": [
       "#### BEAS­2B : \n",
       "\t- "
      ],
      "text/plain": [
       "<IPython.core.display.Markdown object>"
      ]
     },
     "metadata": {},
     "output_type": "display_data"
    },
    {
     "data": {
      "text/markdown": [
       "#### C17.2 : \n",
       "\t- "
      ],
      "text/plain": [
       "<IPython.core.display.Markdown object>"
      ]
     },
     "metadata": {},
     "output_type": "display_data"
    },
    {
     "data": {
      "text/markdown": [
       "#### C18–4 : \n",
       "\t- "
      ],
      "text/plain": [
       "<IPython.core.display.Markdown object>"
      ]
     },
     "metadata": {},
     "output_type": "display_data"
    },
    {
     "data": {
      "text/markdown": [
       "#### CD3+ T cells : \n",
       "\t- "
      ],
      "text/plain": [
       "<IPython.core.display.Markdown object>"
      ]
     },
     "metadata": {},
     "output_type": "display_data"
    },
    {
     "data": {
      "text/markdown": [
       "#### CD4+T cells : \n",
       "\t- "
      ],
      "text/plain": [
       "<IPython.core.display.Markdown object>"
      ]
     },
     "metadata": {},
     "output_type": "display_data"
    },
    {
     "data": {
      "text/markdown": [
       "#### CDBgeo : \n",
       "\t- "
      ],
      "text/plain": [
       "<IPython.core.display.Markdown object>"
      ]
     },
     "metadata": {},
     "output_type": "display_data"
    },
    {
     "data": {
      "text/markdown": [
       "#### CHO22 : \n",
       "\t- "
      ],
      "text/plain": [
       "<IPython.core.display.Markdown object>"
      ]
     },
     "metadata": {},
     "output_type": "display_data"
    },
    {
     "data": {
      "text/markdown": [
       "#### CHO­K1 : \n",
       "\t- "
      ],
      "text/plain": [
       "<IPython.core.display.Markdown object>"
      ]
     },
     "metadata": {},
     "output_type": "display_data"
    },
    {
     "data": {
      "text/markdown": [
       "#### COS­1 : \n",
       "\t- "
      ],
      "text/plain": [
       "<IPython.core.display.Markdown object>"
      ]
     },
     "metadata": {},
     "output_type": "display_data"
    },
    {
     "data": {
      "text/markdown": [
       "#### Caco­2 : \n",
       "\t- "
      ],
      "text/plain": [
       "<IPython.core.display.Markdown object>"
      ]
     },
     "metadata": {},
     "output_type": "display_data"
    },
    {
     "data": {
      "text/markdown": [
       "#### Calu­3 : \n",
       "\t- "
      ],
      "text/plain": [
       "<IPython.core.display.Markdown object>"
      ]
     },
     "metadata": {},
     "output_type": "display_data"
    },
    {
     "data": {
      "text/markdown": [
       "#### Clone­9 : \n",
       "\t- "
      ],
      "text/plain": [
       "<IPython.core.display.Markdown object>"
      ]
     },
     "metadata": {},
     "output_type": "display_data"
    },
    {
     "data": {
      "text/markdown": [
       "#### Colo­205 : \n",
       "\t- "
      ],
      "text/plain": [
       "<IPython.core.display.Markdown object>"
      ]
     },
     "metadata": {},
     "output_type": "display_data"
    },
    {
     "data": {
      "text/markdown": [
       "#### ECV304 : \n",
       "\t- "
      ],
      "text/plain": [
       "<IPython.core.display.Markdown object>"
      ]
     },
     "metadata": {},
     "output_type": "display_data"
    },
    {
     "data": {
      "text/markdown": [
       "#### EJ28 : \n",
       "\t- "
      ],
      "text/plain": [
       "<IPython.core.display.Markdown object>"
      ]
     },
     "metadata": {},
     "output_type": "display_data"
    },
    {
     "data": {
      "text/markdown": [
       "#### Fibroblasts : \n",
       "\t- "
      ],
      "text/plain": [
       "<IPython.core.display.Markdown object>"
      ]
     },
     "metadata": {},
     "output_type": "display_data"
    },
    {
     "data": {
      "text/markdown": [
       "#### GH3 : \n",
       "\t- "
      ],
      "text/plain": [
       "<IPython.core.display.Markdown object>"
      ]
     },
     "metadata": {},
     "output_type": "display_data"
    },
    {
     "data": {
      "text/markdown": [
       "#### H4 : \n",
       "\t- http://www.ebi.ac.uk/efo/EFO_0002184"
      ],
      "text/plain": [
       "<IPython.core.display.Markdown object>"
      ]
     },
     "metadata": {},
     "output_type": "display_data"
    },
    {
     "data": {
      "text/markdown": [
       "#### HAEC : \n",
       "\t- http://purl.obolibrary.org/obo/BTO_0004602"
      ],
      "text/plain": [
       "<IPython.core.display.Markdown object>"
      ]
     },
     "metadata": {},
     "output_type": "display_data"
    },
    {
     "data": {
      "text/markdown": [
       "#### HCMEC : \n",
       "\t- "
      ],
      "text/plain": [
       "<IPython.core.display.Markdown object>"
      ]
     },
     "metadata": {},
     "output_type": "display_data"
    },
    {
     "data": {
      "text/markdown": [
       "#### HDF : \n",
       "\t- "
      ],
      "text/plain": [
       "<IPython.core.display.Markdown object>"
      ]
     },
     "metadata": {},
     "output_type": "display_data"
    },
    {
     "data": {
      "text/markdown": [
       "#### HEK : \n",
       "\t- "
      ],
      "text/plain": [
       "<IPython.core.display.Markdown object>"
      ]
     },
     "metadata": {},
     "output_type": "display_data"
    },
    {
     "data": {
      "text/markdown": [
       "#### HEK­293 : \n",
       "\t- http://purl.obolibrary.org/obo/BTO_0000007"
      ],
      "text/plain": [
       "<IPython.core.display.Markdown object>"
      ]
     },
     "metadata": {},
     "output_type": "display_data"
    },
    {
     "data": {
      "text/markdown": [
       "#### HEp­2 : \n",
       "\t- "
      ],
      "text/plain": [
       "<IPython.core.display.Markdown object>"
      ]
     },
     "metadata": {},
     "output_type": "display_data"
    },
    {
     "data": {
      "text/markdown": [
       "#### HMEC­1 : \n",
       "\t- "
      ],
      "text/plain": [
       "<IPython.core.display.Markdown object>"
      ]
     },
     "metadata": {},
     "output_type": "display_data"
    },
    {
     "data": {
      "text/markdown": [
       "#### HMM : \n",
       "\t- "
      ],
      "text/plain": [
       "<IPython.core.display.Markdown object>"
      ]
     },
     "metadata": {},
     "output_type": "display_data"
    },
    {
     "data": {
      "text/markdown": [
       "#### HUVEC : \n",
       "\t- http://www.ebi.ac.uk/efo/EFO_0002795\n",
       "\t- http://www.ebi.ac.uk/efo/EFO_0002795"
      ],
      "text/plain": [
       "<IPython.core.display.Markdown object>"
      ]
     },
     "metadata": {},
     "output_type": "display_data"
    },
    {
     "data": {
      "text/markdown": [
       "#### HaCaT  : \n",
       "\t- http://www.ebi.ac.uk/efo/EFO_0002056"
      ],
      "text/plain": [
       "<IPython.core.display.Markdown object>"
      ]
     },
     "metadata": {},
     "output_type": "display_data"
    },
    {
     "data": {
      "text/markdown": [
       "#### HeLa : \n",
       "\t- http://www.ebi.ac.uk/efo/EFO_0001185"
      ],
      "text/plain": [
       "<IPython.core.display.Markdown object>"
      ]
     },
     "metadata": {},
     "output_type": "display_data"
    },
    {
     "data": {
      "text/markdown": [
       "#### HepG2 : \n",
       "\t- http://www.ebi.ac.uk/efo/EFO_0001187"
      ],
      "text/plain": [
       "<IPython.core.display.Markdown object>"
      ]
     },
     "metadata": {},
     "output_type": "display_data"
    },
    {
     "data": {
      "text/markdown": [
       "#### IMR90 : \n",
       "\t- http://www.ebi.ac.uk/efo/EFO_0001196"
      ],
      "text/plain": [
       "<IPython.core.display.Markdown object>"
      ]
     },
     "metadata": {},
     "output_type": "display_data"
    },
    {
     "data": {
      "text/markdown": [
       "#### IP15 : \n",
       "\t- "
      ],
      "text/plain": [
       "<IPython.core.display.Markdown object>"
      ]
     },
     "metadata": {},
     "output_type": "display_data"
    },
    {
     "data": {
      "text/markdown": [
       "#### J774 : \n",
       "\t- http://purl.obolibrary.org/obo/BTO_0002279"
      ],
      "text/plain": [
       "<IPython.core.display.Markdown object>"
      ]
     },
     "metadata": {},
     "output_type": "display_data"
    },
    {
     "data": {
      "text/markdown": [
       "#### KEC : \n",
       "\t- "
      ],
      "text/plain": [
       "<IPython.core.display.Markdown object>"
      ]
     },
     "metadata": {},
     "output_type": "display_data"
    },
    {
     "data": {
      "text/markdown": [
       "#### L929 : \n",
       "\t- "
      ],
      "text/plain": [
       "<IPython.core.display.Markdown object>"
      ]
     },
     "metadata": {},
     "output_type": "display_data"
    },
    {
     "data": {
      "text/markdown": [
       "#### LLC­PK1 : \n",
       "\t- "
      ],
      "text/plain": [
       "<IPython.core.display.Markdown object>"
      ]
     },
     "metadata": {},
     "output_type": "display_data"
    },
    {
     "data": {
      "text/markdown": [
       "#### LoVo : \n",
       "\t- http://www.ebi.ac.uk/efo/EFO_0006639"
      ],
      "text/plain": [
       "<IPython.core.display.Markdown object>"
      ]
     },
     "metadata": {},
     "output_type": "display_data"
    },
    {
     "data": {
      "text/markdown": [
       "#### Lymphocytes : \n",
       "\t- "
      ],
      "text/plain": [
       "<IPython.core.display.Markdown object>"
      ]
     },
     "metadata": {},
     "output_type": "display_data"
    },
    {
     "data": {
      "text/markdown": [
       "#### L­02 : \n",
       "\t- "
      ],
      "text/plain": [
       "<IPython.core.display.Markdown object>"
      ]
     },
     "metadata": {},
     "output_type": "display_data"
    },
    {
     "data": {
      "text/markdown": [
       "#### MCF7 : \n",
       "\t- http://www.ebi.ac.uk/efo/EFO_0001203"
      ],
      "text/plain": [
       "<IPython.core.display.Markdown object>"
      ]
     },
     "metadata": {},
     "output_type": "display_data"
    },
    {
     "data": {
      "text/markdown": [
       "#### MDA­MB­231 : \n",
       "\t- "
      ],
      "text/plain": [
       "<IPython.core.display.Markdown object>"
      ]
     },
     "metadata": {},
     "output_type": "display_data"
    },
    {
     "data": {
      "text/markdown": [
       "#### MDBK : \n",
       "\t- "
      ],
      "text/plain": [
       "<IPython.core.display.Markdown object>"
      ]
     },
     "metadata": {},
     "output_type": "display_data"
    },
    {
     "data": {
      "text/markdown": [
       "#### MDCK : \n",
       "\t- "
      ],
      "text/plain": [
       "<IPython.core.display.Markdown object>"
      ]
     },
     "metadata": {},
     "output_type": "display_data"
    },
    {
     "data": {
      "text/markdown": [
       "#### MEF : \n",
       "\t- "
      ],
      "text/plain": [
       "<IPython.core.display.Markdown object>"
      ]
     },
     "metadata": {},
     "output_type": "display_data"
    },
    {
     "data": {
      "text/markdown": [
       "#### MG­63 : \n",
       "\t- "
      ],
      "text/plain": [
       "<IPython.core.display.Markdown object>"
      ]
     },
     "metadata": {},
     "output_type": "display_data"
    },
    {
     "data": {
      "text/markdown": [
       "#### Macrophages : \n",
       "\t- "
      ],
      "text/plain": [
       "<IPython.core.display.Markdown object>"
      ]
     },
     "metadata": {},
     "output_type": "display_data"
    },
    {
     "data": {
      "text/markdown": [
       "#### Memory T­cell : \n",
       "\t- "
      ],
      "text/plain": [
       "<IPython.core.display.Markdown object>"
      ]
     },
     "metadata": {},
     "output_type": "display_data"
    },
    {
     "data": {
      "text/markdown": [
       "#### Monocytes : \n",
       "\t- "
      ],
      "text/plain": [
       "<IPython.core.display.Markdown object>"
      ]
     },
     "metadata": {},
     "output_type": "display_data"
    },
    {
     "data": {
      "text/markdown": [
       "#### NCIH441 : \n",
       "\t- "
      ],
      "text/plain": [
       "<IPython.core.display.Markdown object>"
      ]
     },
     "metadata": {},
     "output_type": "display_data"
    },
    {
     "data": {
      "text/markdown": [
       "#### NK cells : \n",
       "\t- "
      ],
      "text/plain": [
       "<IPython.core.display.Markdown object>"
      ]
     },
     "metadata": {},
     "output_type": "display_data"
    },
    {
     "data": {
      "text/markdown": [
       "#### NR8383 : \n",
       "\t- "
      ],
      "text/plain": [
       "<IPython.core.display.Markdown object>"
      ]
     },
     "metadata": {},
     "output_type": "display_data"
    },
    {
     "data": {
      "text/markdown": [
       "#### Naive T­cell : \n",
       "\t- "
      ],
      "text/plain": [
       "<IPython.core.display.Markdown object>"
      ]
     },
     "metadata": {},
     "output_type": "display_data"
    },
    {
     "data": {
      "text/markdown": [
       "#### Neuro­2a : \n",
       "\t- "
      ],
      "text/plain": [
       "<IPython.core.display.Markdown object>"
      ]
     },
     "metadata": {},
     "output_type": "display_data"
    },
    {
     "data": {
      "text/markdown": [
       "#### PAECs : \n",
       "\t- "
      ],
      "text/plain": [
       "<IPython.core.display.Markdown object>"
      ]
     },
     "metadata": {},
     "output_type": "display_data"
    },
    {
     "data": {
      "text/markdown": [
       "#### PC12 : \n",
       "\t- http://www.ebi.ac.uk/efo/EFO_0001225"
      ],
      "text/plain": [
       "<IPython.core.display.Markdown object>"
      ]
     },
     "metadata": {},
     "output_type": "display_data"
    },
    {
     "data": {
      "text/markdown": [
       "#### PC3 : \n",
       "\t- http://www.ebi.ac.uk/efo/EFO_0002074"
      ],
      "text/plain": [
       "<IPython.core.display.Markdown object>"
      ]
     },
     "metadata": {},
     "output_type": "display_data"
    },
    {
     "data": {
      "text/markdown": [
       "#### PMA activated THP­1 : \n",
       "\t- "
      ],
      "text/plain": [
       "<IPython.core.display.Markdown object>"
      ]
     },
     "metadata": {},
     "output_type": "display_data"
    },
    {
     "data": {
      "text/markdown": [
       "#### RAW 264.7 : \n",
       "\t- "
      ],
      "text/plain": [
       "<IPython.core.display.Markdown object>"
      ]
     },
     "metadata": {},
     "output_type": "display_data"
    },
    {
     "data": {
      "text/markdown": [
       "#### SH­SY5Y : \n",
       "\t- "
      ],
      "text/plain": [
       "<IPython.core.display.Markdown object>"
      ]
     },
     "metadata": {},
     "output_type": "display_data"
    },
    {
     "data": {
      "text/markdown": [
       "#### SKOV­3 : \n",
       "\t- "
      ],
      "text/plain": [
       "<IPython.core.display.Markdown object>"
      ]
     },
     "metadata": {},
     "output_type": "display_data"
    },
    {
     "data": {
      "text/markdown": [
       "#### SK­BR­3 : \n",
       "\t- "
      ],
      "text/plain": [
       "<IPython.core.display.Markdown object>"
      ]
     },
     "metadata": {},
     "output_type": "display_data"
    },
    {
     "data": {
      "text/markdown": [
       "#### SK­Mel­28 : \n",
       "\t- "
      ],
      "text/plain": [
       "<IPython.core.display.Markdown object>"
      ]
     },
     "metadata": {},
     "output_type": "display_data"
    },
    {
     "data": {
      "text/markdown": [
       "#### SVEC4­10 : \n",
       "\t- "
      ],
      "text/plain": [
       "<IPython.core.display.Markdown object>"
      ]
     },
     "metadata": {},
     "output_type": "display_data"
    },
    {
     "data": {
      "text/markdown": [
       "#### SW480 : \n",
       "\t- http://www.ebi.ac.uk/efo/EFO_0002083"
      ],
      "text/plain": [
       "<IPython.core.display.Markdown object>"
      ]
     },
     "metadata": {},
     "output_type": "display_data"
    },
    {
     "data": {
      "text/markdown": [
       "#### T cells (all types) : \n",
       "\t- "
      ],
      "text/plain": [
       "<IPython.core.display.Markdown object>"
      ]
     },
     "metadata": {},
     "output_type": "display_data"
    },
    {
     "data": {
      "text/markdown": [
       "#### T98G : \n",
       "\t- http://www.ebi.ac.uk/efo/EFO_0002085"
      ],
      "text/plain": [
       "<IPython.core.display.Markdown object>"
      ]
     },
     "metadata": {},
     "output_type": "display_data"
    },
    {
     "data": {
      "text/markdown": [
       "#### TD : \n",
       "\t- "
      ],
      "text/plain": [
       "<IPython.core.display.Markdown object>"
      ]
     },
     "metadata": {},
     "output_type": "display_data"
    },
    {
     "data": {
      "text/markdown": [
       "#### THP­1 : \n",
       "\t- "
      ],
      "text/plain": [
       "<IPython.core.display.Markdown object>"
      ]
     },
     "metadata": {},
     "output_type": "display_data"
    },
    {
     "data": {
      "text/markdown": [
       "#### UM­UC­3 : \n",
       "\t- "
      ],
      "text/plain": [
       "<IPython.core.display.Markdown object>"
      ]
     },
     "metadata": {},
     "output_type": "display_data"
    },
    {
     "data": {
      "text/markdown": [
       "#### V14 : \n",
       "\t- "
      ],
      "text/plain": [
       "<IPython.core.display.Markdown object>"
      ]
     },
     "metadata": {},
     "output_type": "display_data"
    },
    {
     "data": {
      "text/markdown": [
       "#### VERO : \n",
       "\t- "
      ],
      "text/plain": [
       "<IPython.core.display.Markdown object>"
      ]
     },
     "metadata": {},
     "output_type": "display_data"
    },
    {
     "data": {
      "text/markdown": [
       "#### hMSCs : \n",
       "\t- "
      ],
      "text/plain": [
       "<IPython.core.display.Markdown object>"
      ]
     },
     "metadata": {},
     "output_type": "display_data"
    },
    {
     "data": {
      "text/markdown": [
       "#### hTERT­BJ1 : \n",
       "\t- "
      ],
      "text/plain": [
       "<IPython.core.display.Markdown object>"
      ]
     },
     "metadata": {},
     "output_type": "display_data"
    },
    {
     "data": {
      "text/markdown": [
       "#### primary alveolar Epithelial cells : \n",
       "\t- "
      ],
      "text/plain": [
       "<IPython.core.display.Markdown object>"
      ]
     },
     "metadata": {},
     "output_type": "display_data"
    },
    {
     "data": {
      "text/markdown": [
       "#### primary alveolar Macrophage : \n",
       "\t- http://purl.obolibrary.org/obo/CL_1001603"
      ],
      "text/plain": [
       "<IPython.core.display.Markdown object>"
      ]
     },
     "metadata": {},
     "output_type": "display_data"
    },
    {
     "data": {
      "text/markdown": [
       "#### primary alveolar epithelial cells : \n",
       "\t- http://www.ebi.ac.uk/efo/EFO_0005728"
      ],
      "text/plain": [
       "<IPython.core.display.Markdown object>"
      ]
     },
     "metadata": {},
     "output_type": "display_data"
    },
    {
     "data": {
      "text/markdown": [
       "#### primary tissue Macrophage : \n",
       "\t- "
      ],
      "text/plain": [
       "<IPython.core.display.Markdown object>"
      ]
     },
     "metadata": {},
     "output_type": "display_data"
    },
    {
     "data": {
      "text/markdown": [
       "#### L : \n",
       "\t- "
      ],
      "text/plain": [
       "<IPython.core.display.Markdown object>"
      ]
     },
     "metadata": {},
     "output_type": "display_data"
    },
    {
     "data": {
      "text/markdown": [
       "#### P : \n",
       "\t- "
      ],
      "text/plain": [
       "<IPython.core.display.Markdown object>"
      ]
     },
     "metadata": {},
     "output_type": "display_data"
    },
    {
     "data": {
      "text/markdown": [
       "#### A : \n",
       "\t- "
      ],
      "text/plain": [
       "<IPython.core.display.Markdown object>"
      ]
     },
     "metadata": {},
     "output_type": "display_data"
    },
    {
     "data": {
      "text/markdown": [
       "#### H : \n",
       "\t- "
      ],
      "text/plain": [
       "<IPython.core.display.Markdown object>"
      ]
     },
     "metadata": {},
     "output_type": "display_data"
    },
    {
     "data": {
      "text/markdown": [
       "#### Endothelial : \n",
       "\t- "
      ],
      "text/plain": [
       "<IPython.core.display.Markdown object>"
      ]
     },
     "metadata": {},
     "output_type": "display_data"
    },
    {
     "data": {
      "text/markdown": [
       "#### Endothelial-like : \n",
       "\t- "
      ],
      "text/plain": [
       "<IPython.core.display.Markdown object>"
      ]
     },
     "metadata": {},
     "output_type": "display_data"
    },
    {
     "data": {
      "text/markdown": [
       "#### Epithelial : \n",
       "\t- "
      ],
      "text/plain": [
       "<IPython.core.display.Markdown object>"
      ]
     },
     "metadata": {},
     "output_type": "display_data"
    },
    {
     "data": {
      "text/markdown": [
       "#### Epithelial-like : \n",
       "\t- "
      ],
      "text/plain": [
       "<IPython.core.display.Markdown object>"
      ]
     },
     "metadata": {},
     "output_type": "display_data"
    },
    {
     "data": {
      "text/markdown": [
       "#### Fibroblast : \n",
       "\t- "
      ],
      "text/plain": [
       "<IPython.core.display.Markdown object>"
      ]
     },
     "metadata": {},
     "output_type": "display_data"
    },
    {
     "data": {
      "text/markdown": [
       "#### Irregular : \n",
       "\t- "
      ],
      "text/plain": [
       "<IPython.core.display.Markdown object>"
      ]
     },
     "metadata": {},
     "output_type": "display_data"
    },
    {
     "data": {
      "text/markdown": [
       "#### Keratinocyte : \n",
       "\t- "
      ],
      "text/plain": [
       "<IPython.core.display.Markdown object>"
      ]
     },
     "metadata": {},
     "output_type": "display_data"
    },
    {
     "data": {
      "text/markdown": [
       "#### Lymphoblast : \n",
       "\t- "
      ],
      "text/plain": [
       "<IPython.core.display.Markdown object>"
      ]
     },
     "metadata": {},
     "output_type": "display_data"
    },
    {
     "data": {
      "text/markdown": [
       "#### Macrophage : \n",
       "\t- "
      ],
      "text/plain": [
       "<IPython.core.display.Markdown object>"
      ]
     },
     "metadata": {},
     "output_type": "display_data"
    },
    {
     "data": {
      "text/markdown": [
       "#### Mesenchymal : \n",
       "\t- "
      ],
      "text/plain": [
       "<IPython.core.display.Markdown object>"
      ]
     },
     "metadata": {},
     "output_type": "display_data"
    },
    {
     "data": {
      "text/markdown": [
       "#### Monocyte : \n",
       "\t- "
      ],
      "text/plain": [
       "<IPython.core.display.Markdown object>"
      ]
     },
     "metadata": {},
     "output_type": "display_data"
    },
    {
     "data": {
      "text/markdown": [
       "#### Monocyte/Macrophage : \n",
       "\t- "
      ],
      "text/plain": [
       "<IPython.core.display.Markdown object>"
      ]
     },
     "metadata": {},
     "output_type": "display_data"
    },
    {
     "data": {
      "text/markdown": [
       "#### Neuronal : \n",
       "\t- "
      ],
      "text/plain": [
       "<IPython.core.display.Markdown object>"
      ]
     },
     "metadata": {},
     "output_type": "display_data"
    },
    {
     "data": {
      "text/markdown": [
       "#### Polygonal : \n",
       "\t- "
      ],
      "text/plain": [
       "<IPython.core.display.Markdown object>"
      ]
     },
     "metadata": {},
     "output_type": "display_data"
    },
    {
     "data": {
      "text/markdown": [
       "#### Spindle : \n",
       "\t- "
      ],
      "text/plain": [
       "<IPython.core.display.Markdown object>"
      ]
     },
     "metadata": {},
     "output_type": "display_data"
    },
    {
     "data": {
      "text/markdown": [
       "#### Adrenal gland : \n",
       "\t- "
      ],
      "text/plain": [
       "<IPython.core.display.Markdown object>"
      ]
     },
     "metadata": {},
     "output_type": "display_data"
    },
    {
     "data": {
      "text/markdown": [
       "#### Aorta : \n",
       "\t- "
      ],
      "text/plain": [
       "<IPython.core.display.Markdown object>"
      ]
     },
     "metadata": {},
     "output_type": "display_data"
    },
    {
     "data": {
      "text/markdown": [
       "#### Areolar tissue : \n",
       "\t- "
      ],
      "text/plain": [
       "<IPython.core.display.Markdown object>"
      ]
     },
     "metadata": {},
     "output_type": "display_data"
    },
    {
     "data": {
      "text/markdown": [
       "#### Blood : \n",
       "\t- "
      ],
      "text/plain": [
       "<IPython.core.display.Markdown object>"
      ]
     },
     "metadata": {},
     "output_type": "display_data"
    },
    {
     "data": {
      "text/markdown": [
       "#### Bone : \n",
       "\t- "
      ],
      "text/plain": [
       "<IPython.core.display.Markdown object>"
      ]
     },
     "metadata": {},
     "output_type": "display_data"
    },
    {
     "data": {
      "text/markdown": [
       "#### Bone Marrow : \n",
       "\t- "
      ],
      "text/plain": [
       "<IPython.core.display.Markdown object>"
      ]
     },
     "metadata": {},
     "output_type": "display_data"
    },
    {
     "data": {
      "text/markdown": [
       "#### Bone marrow : \n",
       "\t- "
      ],
      "text/plain": [
       "<IPython.core.display.Markdown object>"
      ]
     },
     "metadata": {},
     "output_type": "display_data"
    },
    {
     "data": {
      "text/markdown": [
       "#### Brain : \n",
       "\t- "
      ],
      "text/plain": [
       "<IPython.core.display.Markdown object>"
      ]
     },
     "metadata": {},
     "output_type": "display_data"
    },
    {
     "data": {
      "text/markdown": [
       "#### Breast : \n",
       "\t- "
      ],
      "text/plain": [
       "<IPython.core.display.Markdown object>"
      ]
     },
     "metadata": {},
     "output_type": "display_data"
    },
    {
     "data": {
      "text/markdown": [
       "#### Cervix : \n",
       "\t- "
      ],
      "text/plain": [
       "<IPython.core.display.Markdown object>"
      ]
     },
     "metadata": {},
     "output_type": "display_data"
    },
    {
     "data": {
      "text/markdown": [
       "#### Colon : \n",
       "\t- http://purl.obolibrary.org/obo/BTO_0000269"
      ],
      "text/plain": [
       "<IPython.core.display.Markdown object>"
      ]
     },
     "metadata": {},
     "output_type": "display_data"
    },
    {
     "data": {
      "text/markdown": [
       "#### Foreskin : \n",
       "\t- "
      ],
      "text/plain": [
       "<IPython.core.display.Markdown object>"
      ]
     },
     "metadata": {},
     "output_type": "display_data"
    },
    {
     "data": {
      "text/markdown": [
       "#### Heart : \n",
       "\t- "
      ],
      "text/plain": [
       "<IPython.core.display.Markdown object>"
      ]
     },
     "metadata": {},
     "output_type": "display_data"
    },
    {
     "data": {
      "text/markdown": [
       "#### Kidney : \n",
       "\t- "
      ],
      "text/plain": [
       "<IPython.core.display.Markdown object>"
      ]
     },
     "metadata": {},
     "output_type": "display_data"
    },
    {
     "data": {
      "text/markdown": [
       "#### Liver : \n",
       "\t- "
      ],
      "text/plain": [
       "<IPython.core.display.Markdown object>"
      ]
     },
     "metadata": {},
     "output_type": "display_data"
    },
    {
     "data": {
      "text/markdown": [
       "#### Lung : \n",
       "\t- http://purl.obolibrary.org/obo/BTO_0000763"
      ],
      "text/plain": [
       "<IPython.core.display.Markdown object>"
      ]
     },
     "metadata": {},
     "output_type": "display_data"
    },
    {
     "data": {
      "text/markdown": [
       "#### Ovary : \n",
       "\t- "
      ],
      "text/plain": [
       "<IPython.core.display.Markdown object>"
      ]
     },
     "metadata": {},
     "output_type": "display_data"
    },
    {
     "data": {
      "text/markdown": [
       "#### Prostate : \n",
       "\t- "
      ],
      "text/plain": [
       "<IPython.core.display.Markdown object>"
      ]
     },
     "metadata": {},
     "output_type": "display_data"
    },
    {
     "data": {
      "text/markdown": [
       "#### Skin : \n",
       "\t- "
      ],
      "text/plain": [
       "<IPython.core.display.Markdown object>"
      ]
     },
     "metadata": {},
     "output_type": "display_data"
    },
    {
     "data": {
      "text/markdown": [
       "#### Testis : \n",
       "\t- "
      ],
      "text/plain": [
       "<IPython.core.display.Markdown object>"
      ]
     },
     "metadata": {},
     "output_type": "display_data"
    },
    {
     "data": {
      "text/markdown": [
       "#### Umbilical cord : \n",
       "\t- "
      ],
      "text/plain": [
       "<IPython.core.display.Markdown object>"
      ]
     },
     "metadata": {},
     "output_type": "display_data"
    },
    {
     "data": {
      "text/markdown": [
       "#### Urinary bladder : \n",
       "\t- "
      ],
      "text/plain": [
       "<IPython.core.display.Markdown object>"
      ]
     },
     "metadata": {},
     "output_type": "display_data"
    },
    {
     "data": {
      "text/markdown": [
       "#### adrenal gland : \n",
       "\t- "
      ],
      "text/plain": [
       "<IPython.core.display.Markdown object>"
      ]
     },
     "metadata": {},
     "output_type": "display_data"
    },
    {
     "data": {
      "text/markdown": [
       "#### axillary lymph node : \n",
       "\t- "
      ],
      "text/plain": [
       "<IPython.core.display.Markdown object>"
      ]
     },
     "metadata": {},
     "output_type": "display_data"
    },
    {
     "data": {
      "text/markdown": [
       "#### embryo : \n",
       "\t- "
      ],
      "text/plain": [
       "<IPython.core.display.Markdown object>"
      ]
     },
     "metadata": {},
     "output_type": "display_data"
    },
    {
     "data": {
      "text/markdown": [
       "#### kidney : \n",
       "\t- "
      ],
      "text/plain": [
       "<IPython.core.display.Markdown object>"
      ]
     },
     "metadata": {},
     "output_type": "display_data"
    },
    {
     "data": {
      "text/markdown": [
       "#### liver : \n",
       "\t- "
      ],
      "text/plain": [
       "<IPython.core.display.Markdown object>"
      ]
     },
     "metadata": {},
     "output_type": "display_data"
    },
    {
     "data": {
      "text/markdown": [
       "#### lung : \n",
       "\t- "
      ],
      "text/plain": [
       "<IPython.core.display.Markdown object>"
      ]
     },
     "metadata": {},
     "output_type": "display_data"
    },
    {
     "data": {
      "text/markdown": [
       "#### pituitary gland : \n",
       "\t- "
      ],
      "text/plain": [
       "<IPython.core.display.Markdown object>"
      ]
     },
     "metadata": {},
     "output_type": "display_data"
    },
    {
     "data": {
      "text/markdown": [
       "#### stomach : \n",
       "\t- "
      ],
      "text/plain": [
       "<IPython.core.display.Markdown object>"
      ]
     },
     "metadata": {},
     "output_type": "display_data"
    },
    {
     "data": {
      "text/markdown": [
       "#### ATP : \n",
       "\t- http://purl.obolibrary.org/obo/OBI_0002175"
      ],
      "text/plain": [
       "<IPython.core.display.Markdown object>"
      ]
     },
     "metadata": {},
     "output_type": "display_data"
    },
    {
     "data": {
      "text/markdown": [
       "#### ATPLite : \n",
       "\t- "
      ],
      "text/plain": [
       "<IPython.core.display.Markdown object>"
      ]
     },
     "metadata": {},
     "output_type": "display_data"
    },
    {
     "data": {
      "text/markdown": [
       "#### Alamar Blue : \n",
       "\t- http://purl.enanomapper.org/onto/ENM_8000224"
      ],
      "text/plain": [
       "<IPython.core.display.Markdown object>"
      ]
     },
     "metadata": {},
     "output_type": "display_data"
    },
    {
     "data": {
      "text/markdown": [
       "#### Alamar blue : \n",
       "\t- http://purl.enanomapper.org/onto/ENM_8000224"
      ],
      "text/plain": [
       "<IPython.core.display.Markdown object>"
      ]
     },
     "metadata": {},
     "output_type": "display_data"
    },
    {
     "data": {
      "text/markdown": [
       "#### ApoTox­Glo™ Triplex : \n",
       "\t- "
      ],
      "text/plain": [
       "<IPython.core.display.Markdown object>"
      ]
     },
     "metadata": {},
     "output_type": "display_data"
    },
    {
     "data": {
      "text/markdown": [
       "#### CellTiter­Blue : \n",
       "\t- "
      ],
      "text/plain": [
       "<IPython.core.display.Markdown object>"
      ]
     },
     "metadata": {},
     "output_type": "display_data"
    },
    {
     "data": {
      "text/markdown": [
       "#### CellTiter­Blue  : \n",
       "\t- "
      ],
      "text/plain": [
       "<IPython.core.display.Markdown object>"
      ]
     },
     "metadata": {},
     "output_type": "display_data"
    },
    {
     "data": {
      "text/markdown": [
       "#### CellTiter­Glo : \n",
       "\t- "
      ],
      "text/plain": [
       "<IPython.core.display.Markdown object>"
      ]
     },
     "metadata": {},
     "output_type": "display_data"
    },
    {
     "data": {
      "text/markdown": [
       "#### CytoTox­One™ : \n",
       "\t- "
      ],
      "text/plain": [
       "<IPython.core.display.Markdown object>"
      ]
     },
     "metadata": {},
     "output_type": "display_data"
    },
    {
     "data": {
      "text/markdown": [
       "#### LDH : \n",
       "\t- http://purl.enanomapper.org/onto/ENM_8000269"
      ],
      "text/plain": [
       "<IPython.core.display.Markdown object>"
      ]
     },
     "metadata": {},
     "output_type": "display_data"
    },
    {
     "data": {
      "text/markdown": [
       "#### Live/Dead : \n",
       "\t- "
      ],
      "text/plain": [
       "<IPython.core.display.Markdown object>"
      ]
     },
     "metadata": {},
     "output_type": "display_data"
    },
    {
     "data": {
      "text/markdown": [
       "#### Live/Dead  : \n",
       "\t- "
      ],
      "text/plain": [
       "<IPython.core.display.Markdown object>"
      ]
     },
     "metadata": {},
     "output_type": "display_data"
    },
    {
     "data": {
      "text/markdown": [
       "#### MTS : \n",
       "\t- http://purl.enanomapper.org/onto/ENM_8000275"
      ],
      "text/plain": [
       "<IPython.core.display.Markdown object>"
      ]
     },
     "metadata": {},
     "output_type": "display_data"
    },
    {
     "data": {
      "text/markdown": [
       "#### MTT : \n",
       "\t- http://purl.bioontology.org/ontology/npo#NPO_1911"
      ],
      "text/plain": [
       "<IPython.core.display.Markdown object>"
      ]
     },
     "metadata": {},
     "output_type": "display_data"
    },
    {
     "data": {
      "text/markdown": [
       "#### Modified MTT assay (MTT­formazan ppt dissolving by ethanol) : \n",
       "\t- "
      ],
      "text/plain": [
       "<IPython.core.display.Markdown object>"
      ]
     },
     "metadata": {},
     "output_type": "display_data"
    },
    {
     "data": {
      "text/markdown": [
       "#### Modified MTT assay (MTT­formazan ppt dissolving by isopropanol/HCl) : \n",
       "\t- "
      ],
      "text/plain": [
       "<IPython.core.display.Markdown object>"
      ]
     },
     "metadata": {},
     "output_type": "display_data"
    },
    {
     "data": {
      "text/markdown": [
       "#### NR : \n",
       "\t- "
      ],
      "text/plain": [
       "<IPython.core.display.Markdown object>"
      ]
     },
     "metadata": {},
     "output_type": "display_data"
    },
    {
     "data": {
      "text/markdown": [
       "#### Promegas CTB Assay : \n",
       "\t- "
      ],
      "text/plain": [
       "<IPython.core.display.Markdown object>"
      ]
     },
     "metadata": {},
     "output_type": "display_data"
    },
    {
     "data": {
      "text/markdown": [
       "#### Resazurin : \n",
       "\t- http://purl.obolibrary.org/obo/CHEBI_8806"
      ],
      "text/plain": [
       "<IPython.core.display.Markdown object>"
      ]
     },
     "metadata": {},
     "output_type": "display_data"
    },
    {
     "data": {
      "text/markdown": [
       "#### Vialight : \n",
       "\t- "
      ],
      "text/plain": [
       "<IPython.core.display.Markdown object>"
      ]
     },
     "metadata": {},
     "output_type": "display_data"
    },
    {
     "data": {
      "text/markdown": [
       "#### WST­1 : \n",
       "\t- "
      ],
      "text/plain": [
       "<IPython.core.display.Markdown object>"
      ]
     },
     "metadata": {},
     "output_type": "display_data"
    },
    {
     "data": {
      "text/markdown": [
       "#### WST­8 : \n",
       "\t- "
      ],
      "text/plain": [
       "<IPython.core.display.Markdown object>"
      ]
     },
     "metadata": {},
     "output_type": "display_data"
    },
    {
     "data": {
      "text/markdown": [
       "#### XTT : \n",
       "\t- "
      ],
      "text/plain": [
       "<IPython.core.display.Markdown object>"
      ]
     },
     "metadata": {},
     "output_type": "display_data"
    },
    {
     "data": {
      "text/markdown": [
       "#### Annexin V : \n",
       "\t- "
      ],
      "text/plain": [
       "<IPython.core.display.Markdown object>"
      ]
     },
     "metadata": {},
     "output_type": "display_data"
    },
    {
     "data": {
      "text/markdown": [
       "#### Calcein AM, Ethidium homodimer-1 : \n",
       "\t- "
      ],
      "text/plain": [
       "<IPython.core.display.Markdown object>"
      ]
     },
     "metadata": {},
     "output_type": "display_data"
    },
    {
     "data": {
      "text/markdown": [
       "#### Calcein AM, propidium iodide : \n",
       "\t- "
      ],
      "text/plain": [
       "<IPython.core.display.Markdown object>"
      ]
     },
     "metadata": {},
     "output_type": "display_data"
    },
    {
     "data": {
      "text/markdown": [
       "#### Caspase-Glo® 3/7 Reagent : \n",
       "\t- "
      ],
      "text/plain": [
       "<IPython.core.display.Markdown object>"
      ]
     },
     "metadata": {},
     "output_type": "display_data"
    },
    {
     "data": {
      "text/markdown": [
       "#### Hoechst 33358, propidium iodide : \n",
       "\t- "
      ],
      "text/plain": [
       "<IPython.core.display.Markdown object>"
      ]
     },
     "metadata": {},
     "output_type": "display_data"
    },
    {
     "data": {
      "text/markdown": [
       "#### LDH activity assay kit : \n",
       "\t- "
      ],
      "text/plain": [
       "<IPython.core.display.Markdown object>"
      ]
     },
     "metadata": {},
     "output_type": "display_data"
    },
    {
     "data": {
      "text/markdown": [
       "#### Propidium iodide : \n",
       "\t- "
      ],
      "text/plain": [
       "<IPython.core.display.Markdown object>"
      ]
     },
     "metadata": {},
     "output_type": "display_data"
    },
    {
     "data": {
      "text/markdown": [
       "#### Sytox Red : \n",
       "\t- "
      ],
      "text/plain": [
       "<IPython.core.display.Markdown object>"
      ]
     },
     "metadata": {},
     "output_type": "display_data"
    },
    {
     "data": {
      "text/markdown": [
       "#### Trypan Blue : \n",
       "\t- "
      ],
      "text/plain": [
       "<IPython.core.display.Markdown object>"
      ]
     },
     "metadata": {},
     "output_type": "display_data"
    },
    {
     "data": {
      "text/markdown": [
       "#### calcein AM : \n",
       "\t- "
      ],
      "text/plain": [
       "<IPython.core.display.Markdown object>"
      ]
     },
     "metadata": {},
     "output_type": "display_data"
    },
    {
     "data": {
      "text/markdown": [
       "#### luciferase : \n",
       "\t- "
      ],
      "text/plain": [
       "<IPython.core.display.Markdown object>"
      ]
     },
     "metadata": {},
     "output_type": "display_data"
    },
    {
     "data": {
      "text/markdown": [
       "#### propidium iodide : \n",
       "\t- "
      ],
      "text/plain": [
       "<IPython.core.display.Markdown object>"
      ]
     },
     "metadata": {},
     "output_type": "display_data"
    },
    {
     "data": {
      "text/markdown": [
       "#### propidium iodide, Annexin V : \n",
       "\t- "
      ],
      "text/plain": [
       "<IPython.core.display.Markdown object>"
      ]
     },
     "metadata": {},
     "output_type": "display_data"
    },
    {
     "data": {
      "text/markdown": [
       "#### tetrazolium salt : \n",
       "\t- "
      ],
      "text/plain": [
       "<IPython.core.display.Markdown object>"
      ]
     },
     "metadata": {},
     "output_type": "display_data"
    },
    {
     "data": {
      "text/markdown": [
       "#### toluylene red : \n",
       "\t- "
      ],
      "text/plain": [
       "<IPython.core.display.Markdown object>"
      ]
     },
     "metadata": {},
     "output_type": "display_data"
    },
    {
     "data": {
      "text/markdown": [
       "#### trypan blue : \n",
       "\t- http://purl.obolibrary.org/obo/CHEBI_78897"
      ],
      "text/plain": [
       "<IPython.core.display.Markdown object>"
      ]
     },
     "metadata": {},
     "output_type": "display_data"
    },
    {
     "data": {
      "text/markdown": [
       "#### ATP content : \n",
       "\t- "
      ],
      "text/plain": [
       "<IPython.core.display.Markdown object>"
      ]
     },
     "metadata": {},
     "output_type": "display_data"
    },
    {
     "data": {
      "text/markdown": [
       "#### LDH leakage : \n",
       "\t- "
      ],
      "text/plain": [
       "<IPython.core.display.Markdown object>"
      ]
     },
     "metadata": {},
     "output_type": "display_data"
    },
    {
     "data": {
      "text/markdown": [
       "#### cell membrane integrity : \n",
       "\t- "
      ],
      "text/plain": [
       "<IPython.core.display.Markdown object>"
      ]
     },
     "metadata": {},
     "output_type": "display_data"
    },
    {
     "data": {
      "text/markdown": [
       "#### cell metabolic activity : \n",
       "\t- "
      ],
      "text/plain": [
       "<IPython.core.display.Markdown object>"
      ]
     },
     "metadata": {},
     "output_type": "display_data"
    },
    {
     "data": {
      "text/markdown": [
       "#### lysosomal uptake : \n",
       "\t- "
      ],
      "text/plain": [
       "<IPython.core.display.Markdown object>"
      ]
     },
     "metadata": {},
     "output_type": "display_data"
    },
    {
     "data": {
      "text/markdown": [
       "#### protease activity : \n",
       "\t- "
      ],
      "text/plain": [
       "<IPython.core.display.Markdown object>"
      ]
     },
     "metadata": {},
     "output_type": "display_data"
    }
   ],
   "source": [
    "for key in matches.keys():\n",
    "    display(Markdown(\"#### {} : \\n\\t- {}\".format(key, \"\\n\\t- \".join(matches[key]))))"
   ]
  },
  {
   "cell_type": "code",
   "execution_count": 42,
   "metadata": {},
   "outputs": [
    {
     "data": {
      "text/markdown": [
       "Missing terms: 202 out of 254"
      ],
      "text/plain": [
       "<IPython.core.display.Markdown object>"
      ]
     },
     "metadata": {},
     "output_type": "display_data"
    },
    {
     "data": {
      "text/markdown": [
       "Missing terms in eNanoMapper:\n",
       " - Ag\n",
       "- Al2O3\n",
       "- Carbon NP\n",
       "- CeO2\n",
       "- Co\n",
       "- Cr\n",
       "- Eudragit RL\n",
       "- Liposomes\n",
       "- Pt\n",
       "- QDs\n",
       "- SLN\n",
       "- \n",
       "- 3-mercaptopropionic acid (COOH)\n",
       "- BSA\n",
       "- COOH\n",
       "- COONa\n",
       "- CTAB\n",
       "- Citrate\n",
       "- Citrate and PVP\n",
       "- D-penicillamine (NH2/COOH)\n",
       "- Dextran\n",
       "- Digestive enzymes\n",
       "- Folic acid\n",
       "- Gum Arabic\n",
       "- Hyaluronic acid\n",
       "- Hyaluronic acid \n",
       "- NH2\n",
       "- PEG\n",
       "- PEG to the PEI\n",
       "- PEG-COOH\n",
       "- PEG-NH2\n",
       "- PEG-OCH3\n",
       "- PEI\n",
       "- PVA\n",
       "- PVP\n",
       "- Phosphonate\n",
       "- Poloxamer 188 (Pluronic F68)\n",
       "- SGF\n",
       "- SO3Na\n",
       "- Sodium borohydride\n",
       "- Star anise\n",
       "- Starch\n",
       "- TGA\n",
       "- TGA-gelatine\n",
       "- Tween 80\n",
       "- Zn then cysteamine\n",
       "- alginate\n",
       "- alumina-simethicone\n",
       "- cysteamine\n",
       "- cysteamine (NH2)\n",
       "- dimercaptosuccinic\n",
       "- folic acid with intermediate inorganic (silica) coating\n",
       "- folic acid with intermediate organic (PEG) coating\n",
       "- l-cysteine l-lysine l-lysine\n",
       "- metal catalyst residues\n",
       "- silica\n",
       "- simethicone then esters on top\n",
       "- B cells\n",
       "- BEAS­2B\n",
       "- C17.2\n",
       "- C18–4\n",
       "- CD3+ T cells\n",
       "- CD4+T cells\n",
       "- CDBgeo\n",
       "- CHO22\n",
       "- CHO­K1\n",
       "- COS­1\n",
       "- Caco­2\n",
       "- Calu­3\n",
       "- Clone­9\n",
       "- Colo­205\n",
       "- ECV304\n",
       "- EJ28\n",
       "- Fibroblasts\n",
       "- GH3\n",
       "- HCMEC\n",
       "- HDF\n",
       "- HEK\n",
       "- HEp­2\n",
       "- HMEC­1\n",
       "- HMM\n",
       "- IP15\n",
       "- KEC\n",
       "- L929\n",
       "- LLC­PK1\n",
       "- Lymphocytes\n",
       "- L­02\n",
       "- MDA­MB­231\n",
       "- MDBK\n",
       "- MDCK\n",
       "- MEF\n",
       "- MG­63\n",
       "- Macrophages\n",
       "- Memory T­cell\n",
       "- Monocytes\n",
       "- NCIH441\n",
       "- NK cells\n",
       "- NR8383\n",
       "- Naive T­cell\n",
       "- Neuro­2a\n",
       "- PAECs\n",
       "- PMA activated THP­1\n",
       "- RAW 264.7\n",
       "- SH­SY5Y\n",
       "- SKOV­3\n",
       "- SK­BR­3\n",
       "- SK­Mel­28\n",
       "- SVEC4­10\n",
       "- T cells (all types)\n",
       "- TD\n",
       "- THP­1\n",
       "- UM­UC­3\n",
       "- V14\n",
       "- VERO\n",
       "- hMSCs\n",
       "- hTERT­BJ1\n",
       "- primary alveolar Epithelial cells\n",
       "- primary tissue Macrophage\n",
       "- L\n",
       "- P\n",
       "- A\n",
       "- H\n",
       "- Endothelial\n",
       "- Endothelial-like\n",
       "- Epithelial\n",
       "- Epithelial-like\n",
       "- Fibroblast\n",
       "- Irregular\n",
       "- Keratinocyte\n",
       "- Lymphoblast\n",
       "- Macrophage\n",
       "- Mesenchymal\n",
       "- Monocyte\n",
       "- Monocyte/Macrophage\n",
       "- Neuronal\n",
       "- Polygonal\n",
       "- Spindle\n",
       "- Adrenal gland\n",
       "- Aorta\n",
       "- Areolar tissue\n",
       "- Blood\n",
       "- Bone\n",
       "- Bone Marrow\n",
       "- Bone marrow\n",
       "- Brain\n",
       "- Breast\n",
       "- Cervix\n",
       "- Foreskin\n",
       "- Heart\n",
       "- Kidney\n",
       "- Liver\n",
       "- Ovary\n",
       "- Prostate\n",
       "- Skin\n",
       "- Testis\n",
       "- Umbilical cord\n",
       "- Urinary bladder\n",
       "- adrenal gland\n",
       "- axillary lymph node\n",
       "- embryo\n",
       "- kidney\n",
       "- liver\n",
       "- lung\n",
       "- pituitary gland\n",
       "- stomach\n",
       "- ATPLite\n",
       "- ApoTox­Glo™ Triplex\n",
       "- CellTiter­Blue\n",
       "- CellTiter­Blue \n",
       "- CellTiter­Glo\n",
       "- CytoTox­One™\n",
       "- Live/Dead\n",
       "- Live/Dead \n",
       "- Modified MTT assay (MTT­formazan ppt dissolving by ethanol)\n",
       "- Modified MTT assay (MTT­formazan ppt dissolving by isopropanol/HCl)\n",
       "- NR\n",
       "- Promegas CTB Assay\n",
       "- Vialight\n",
       "- WST­1\n",
       "- WST­8\n",
       "- XTT\n",
       "- Annexin V\n",
       "- Calcein AM, Ethidium homodimer-1\n",
       "- Calcein AM, propidium iodide\n",
       "- Caspase-Glo® 3/7 Reagent\n",
       "- Hoechst 33358, propidium iodide\n",
       "- LDH activity assay kit\n",
       "- Propidium iodide\n",
       "- Sytox Red\n",
       "- Trypan Blue\n",
       "- calcein AM\n",
       "- luciferase\n",
       "- propidium iodide\n",
       "- propidium iodide, Annexin V\n",
       "- tetrazolium salt\n",
       "- toluylene red\n",
       "- ATP content\n",
       "- LDH leakage\n",
       "- cell membrane integrity\n",
       "- cell metabolic activity\n",
       "- lysosomal uptake\n",
       "- protease activity"
      ],
      "text/plain": [
       "<IPython.core.display.Markdown object>"
      ]
     },
     "metadata": {},
     "output_type": "display_data"
    }
   ],
   "source": [
    "missing = [key for key in matches.keys() if len(matches[key])==0]\n",
    "str_missing = \"- \" + \"\\n- \".join(missing)\n",
    "display(Markdown(\"Missing terms: {} out of {}\".format(len(missing), len(matches.keys()))))\n",
    "display(Markdown(f\"Missing terms in eNanoMapper:\\n {str_missing}\"))\n",
    "with open(\"missing.txt\", \"w\") as f:\n",
    "    for miss in missing:\n",
    "        f.write(\"\\n{}\".format(miss))\n",
    "with open(\"matches.json\", \"w\") as json_file:\n",
    "    json.dump(matches, json_file)"
   ]
  },
  {
   "cell_type": "markdown",
   "metadata": {},
   "source": [
    "Next: save a JSON with the shape:"
   ]
  },
  {
   "cell_type": "code",
   "execution_count": 50,
   "metadata": {},
   "outputs": [],
   "source": [
    "nanomaterial_dict = {\"nanomaterial\":\n",
    "                     {\"iri\": \"\", \n",
    "                      \"core\":\n",
    "                          {\"label\":\"\", \n",
    "                           \"smiles\":\"\"}, \n",
    "                      \"coating\":\n",
    "                          {\"label\":\"\", \n",
    "                           \"smiles\":\"\", \n",
    "                           \"iri\":\"\"}}}"
   ]
  },
  {
   "cell_type": "code",
   "execution_count": 54,
   "metadata": {},
   "outputs": [],
   "source": [
    "endpoint_dict = {}"
   ]
  },
  {
   "cell_type": "code",
   "execution_count": 56,
   "metadata": {},
   "outputs": [],
   "source": [
    "bioassay_dict = {}"
   ]
  },
  {
   "cell_type": "code",
   "execution_count": 57,
   "metadata": {},
   "outputs": [],
   "source": [
    "material_dict = {}"
   ]
  },
  {
   "cell_type": "code",
   "execution_count": 58,
   "metadata": {},
   "outputs": [],
   "source": [
    "metadata_dict = {}"
   ]
  },
  {
   "cell_type": "code",
   "execution_count": null,
   "metadata": {},
   "outputs": [],
   "source": []
  }
 ],
 "metadata": {
  "kernelspec": {
   "display_name": "Python 3 (ipykernel)",
   "language": "python",
   "name": "python3"
  },
  "language_info": {
   "codemirror_mode": {
    "name": "ipython",
    "version": 3
   },
   "file_extension": ".py",
   "mimetype": "text/x-python",
   "name": "python",
   "nbconvert_exporter": "python",
   "pygments_lexer": "ipython3",
   "version": "3.9.13"
  },
  "toc-autonumbering": true,
  "toc-showcode": false,
  "toc-showmarkdowntxt": false,
  "toc-showtags": false,
  "vscode": {
   "interpreter": {
    "hash": "267a425285626f162e8dbac0e72a3103fc15fe1856529c1140c5b196b5352764"
   }
  }
 },
 "nbformat": 4,
 "nbformat_minor": 4
}
